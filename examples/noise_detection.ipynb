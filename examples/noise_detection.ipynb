{
 "cells": [
  {
   "cell_type": "code",
   "execution_count": 1,
   "metadata": {},
   "outputs": [
    {
     "name": "stderr",
     "output_type": "stream",
     "text": [
      "/Users/takumishibata/Documents/project/data-valuation/.venv/lib/python3.11/site-packages/tqdm/auto.py:21: TqdmWarning: IProgress not found. Please update jupyter and ipywidgets. See https://ipywidgets.readthedocs.io/en/stable/user_install.html\n",
      "  from .autonotebook import tqdm as notebook_tqdm\n"
     ]
    }
   ],
   "source": [
    "import polars as pl\n",
    "import numpy as np\n",
    "\n",
    "from data_valuation.core.loo_valuator import LOOValuator\n",
    "from data_valuation.core.shapley_valuator import ShapleyValuator\n",
    "from data_valuation.core.dvrl_valuator import DVRLValuator\n",
    "from data_valuation.utils.data_utils import get_min_max_scores"
   ]
  },
  {
   "cell_type": "markdown",
   "metadata": {},
   "source": [
    "# Step 1. Load ASAP dataset"
   ]
  },
  {
   "cell_type": "code",
   "execution_count": 2,
   "metadata": {},
   "outputs": [],
   "source": [
    "def scale_score(score: int, essay_set: int, score_dict: dict) -> float:\n",
    "    minscore, maxscore = score_dict[essay_set]['score']\n",
    "    return (score - minscore) / (maxscore - minscore)"
   ]
  },
  {
   "cell_type": "code",
   "execution_count": 3,
   "metadata": {},
   "outputs": [
    {
     "data": {
      "text/html": [
       "<div><style>\n",
       ".dataframe > thead > tr,\n",
       ".dataframe > tbody > tr {\n",
       "  text-align: right;\n",
       "  white-space: pre-wrap;\n",
       "}\n",
       "</style>\n",
       "<small>shape: (1_771, 5)</small><table border=\"1\" class=\"dataframe\"><thead><tr><th>essay_id</th><th>essay_set</th><th>essay</th><th>domain1_score</th><th>scaled_score</th></tr><tr><td>i64</td><td>i64</td><td>str</td><td>i64</td><td>f64</td></tr></thead><tbody><tr><td>8863</td><td>4</td><td>&quot;The author concludes the story…</td><td>0</td><td>0.0</td></tr><tr><td>8864</td><td>4</td><td>&quot;The narrater has that in with …</td><td>0</td><td>0.0</td></tr><tr><td>8865</td><td>4</td><td>&quot;The author concludes the story…</td><td>3</td><td>1.0</td></tr><tr><td>8866</td><td>4</td><td>&quot;The author ended the story wit…</td><td>2</td><td>0.666667</td></tr><tr><td>8867</td><td>4</td><td>&quot;The author concludes the story…</td><td>2</td><td>0.666667</td></tr><tr><td>&hellip;</td><td>&hellip;</td><td>&hellip;</td><td>&hellip;</td><td>&hellip;</td></tr><tr><td>10638</td><td>4</td><td>&quot;To me it seam like the whoever…</td><td>0</td><td>0.0</td></tr><tr><td>10639</td><td>4</td><td>&quot;The author concludes the story…</td><td>2</td><td>0.666667</td></tr><tr><td>10640</td><td>4</td><td>&quot;The author uses this conclusio…</td><td>1</td><td>0.333333</td></tr><tr><td>10641</td><td>4</td><td>&quot;The author concludes the story…</td><td>0</td><td>0.0</td></tr><tr><td>10642</td><td>4</td><td>&quot;There was a specific reason as…</td><td>2</td><td>0.666667</td></tr></tbody></table></div>"
      ],
      "text/plain": [
       "shape: (1_771, 5)\n",
       "┌──────────┬───────────┬─────────────────────────────────┬───────────────┬──────────────┐\n",
       "│ essay_id ┆ essay_set ┆ essay                           ┆ domain1_score ┆ scaled_score │\n",
       "│ ---      ┆ ---       ┆ ---                             ┆ ---           ┆ ---          │\n",
       "│ i64      ┆ i64       ┆ str                             ┆ i64           ┆ f64          │\n",
       "╞══════════╪═══════════╪═════════════════════════════════╪═══════════════╪══════════════╡\n",
       "│ 8863     ┆ 4         ┆ The author concludes the story… ┆ 0             ┆ 0.0          │\n",
       "│ 8864     ┆ 4         ┆ The narrater has that in with … ┆ 0             ┆ 0.0          │\n",
       "│ 8865     ┆ 4         ┆ The author concludes the story… ┆ 3             ┆ 1.0          │\n",
       "│ 8866     ┆ 4         ┆ The author ended the story wit… ┆ 2             ┆ 0.666667     │\n",
       "│ 8867     ┆ 4         ┆ The author concludes the story… ┆ 2             ┆ 0.666667     │\n",
       "│ …        ┆ …         ┆ …                               ┆ …             ┆ …            │\n",
       "│ 10638    ┆ 4         ┆ To me it seam like the whoever… ┆ 0             ┆ 0.0          │\n",
       "│ 10639    ┆ 4         ┆ The author concludes the story… ┆ 2             ┆ 0.666667     │\n",
       "│ 10640    ┆ 4         ┆ The author uses this conclusio… ┆ 1             ┆ 0.333333     │\n",
       "│ 10641    ┆ 4         ┆ The author concludes the story… ┆ 0             ┆ 0.0          │\n",
       "│ 10642    ┆ 4         ┆ There was a specific reason as… ┆ 2             ┆ 0.666667     │\n",
       "└──────────┴───────────┴─────────────────────────────────┴───────────────┴──────────────┘"
      ]
     },
     "execution_count": 3,
     "metadata": {},
     "output_type": "execute_result"
    }
   ],
   "source": [
    "PROMPT_ID = 4\n",
    "RAMDOM_SEED = 42\n",
    "\n",
    "asap_data = pl.read_excel('training_set_rel3.xlsx', infer_schema_length=15000)\n",
    "asap_data = asap_data.drop_nulls(\"domain1_score\")\n",
    "asap_data = asap_data.select(['essay_id', 'essay_set', 'essay', 'domain1_score'])\n",
    "asap_data = asap_data.with_columns(\n",
    "    pl.struct(['domain1_score', 'essay_set'])\n",
    "    .map_elements(lambda x: scale_score(x['domain1_score'], x['essay_set'], get_min_max_scores()), return_dtype=pl.Float64)\n",
    "    .alias('scaled_score')\n",
    ")\n",
    "asap_data = asap_data.filter(pl.col('essay_set') == PROMPT_ID)\n",
    "asap_data"
   ]
  },
  {
   "cell_type": "code",
   "execution_count": 4,
   "metadata": {},
   "outputs": [
    {
     "name": "stdout",
     "output_type": "stream",
     "text": [
      "Train data size: (1062, 5)\n",
      "Dev data size: (354, 5)\n",
      "Test data size: (355, 5)\n"
     ]
    }
   ],
   "source": [
    "from sklearn.model_selection import train_test_split\n",
    "\n",
    "train_data, temp_data = train_test_split(asap_data, train_size=0.6, random_state=RAMDOM_SEED)\n",
    "dev_data, test_data = train_test_split(temp_data, test_size=0.5, random_state=RAMDOM_SEED)\n",
    "\n",
    "print(f\"Train data size: {train_data.shape}\")\n",
    "print(f\"Dev data size: {dev_data.shape}\")\n",
    "print(f\"Test data size: {test_data.shape}\")"
   ]
  },
  {
   "cell_type": "markdown",
   "metadata": {},
   "source": [
    "# Step 2. Add noise"
   ]
  },
  {
   "cell_type": "code",
   "execution_count": 5,
   "metadata": {},
   "outputs": [
    {
     "data": {
      "text/html": [
       "<div><style>\n",
       ".dataframe > thead > tr,\n",
       ".dataframe > tbody > tr {\n",
       "  text-align: right;\n",
       "  white-space: pre-wrap;\n",
       "}\n",
       "</style>\n",
       "<small>shape: (1_062, 7)</small><table border=\"1\" class=\"dataframe\"><thead><tr><th>essay_id</th><th>essay_set</th><th>essay</th><th>domain1_score</th><th>scaled_score</th><th>noisy_score</th><th>is_noisy</th></tr><tr><td>i64</td><td>i64</td><td>str</td><td>i64</td><td>f64</td><td>f64</td><td>bool</td></tr></thead><tbody><tr><td>10325</td><td>4</td><td>&quot;In the Story the @CAPS1 conclu…</td><td>2</td><td>0.666667</td><td>0.666667</td><td>false</td></tr><tr><td>9587</td><td>4</td><td>&quot;The author concludes the story…</td><td>2</td><td>0.666667</td><td>0.666667</td><td>false</td></tr><tr><td>10086</td><td>4</td><td>&quot;The author includes the story …</td><td>1</td><td>0.333333</td><td>0.0</td><td>true</td></tr><tr><td>9854</td><td>4</td><td>&quot;The author concludes the story…</td><td>1</td><td>0.333333</td><td>0.841714</td><td>true</td></tr><tr><td>10138</td><td>4</td><td>&quot;The author concluded his stori…</td><td>0</td><td>0.0</td><td>0.0</td><td>false</td></tr><tr><td>&hellip;</td><td>&hellip;</td><td>&hellip;</td><td>&hellip;</td><td>&hellip;</td><td>&hellip;</td><td>&hellip;</td></tr><tr><td>9996</td><td>4</td><td>&quot;I think the author concludes t…</td><td>0</td><td>0.0</td><td>0.0</td><td>false</td></tr><tr><td>10162</td><td>4</td><td>&quot;I think the author conclades t…</td><td>2</td><td>0.666667</td><td>0.666667</td><td>false</td></tr><tr><td>9726</td><td>4</td><td>&quot;The author ends the story “Win…</td><td>2</td><td>0.666667</td><td>0.666667</td><td>false</td></tr><tr><td>10327</td><td>4</td><td>&quot;The author is expressing hope …</td><td>3</td><td>1.0</td><td>1.0</td><td>true</td></tr><tr><td>9992</td><td>4</td><td>&quot;The author ends the story with…</td><td>0</td><td>0.0</td><td>0.470924</td><td>true</td></tr></tbody></table></div>"
      ],
      "text/plain": [
       "shape: (1_062, 7)\n",
       "┌──────────┬───────────┬───────────────────┬───────────────┬──────────────┬─────────────┬──────────┐\n",
       "│ essay_id ┆ essay_set ┆ essay             ┆ domain1_score ┆ scaled_score ┆ noisy_score ┆ is_noisy │\n",
       "│ ---      ┆ ---       ┆ ---               ┆ ---           ┆ ---          ┆ ---         ┆ ---      │\n",
       "│ i64      ┆ i64       ┆ str               ┆ i64           ┆ f64          ┆ f64         ┆ bool     │\n",
       "╞══════════╪═══════════╪═══════════════════╪═══════════════╪══════════════╪═════════════╪══════════╡\n",
       "│ 10325    ┆ 4         ┆ In the Story the  ┆ 2             ┆ 0.666667     ┆ 0.666667    ┆ false    │\n",
       "│          ┆           ┆ @CAPS1 conclu…    ┆               ┆              ┆             ┆          │\n",
       "│ 9587     ┆ 4         ┆ The author        ┆ 2             ┆ 0.666667     ┆ 0.666667    ┆ false    │\n",
       "│          ┆           ┆ concludes the     ┆               ┆              ┆             ┆          │\n",
       "│          ┆           ┆ story…            ┆               ┆              ┆             ┆          │\n",
       "│ 10086    ┆ 4         ┆ The author        ┆ 1             ┆ 0.333333     ┆ 0.0         ┆ true     │\n",
       "│          ┆           ┆ includes the      ┆               ┆              ┆             ┆          │\n",
       "│          ┆           ┆ story …           ┆               ┆              ┆             ┆          │\n",
       "│ 9854     ┆ 4         ┆ The author        ┆ 1             ┆ 0.333333     ┆ 0.841714    ┆ true     │\n",
       "│          ┆           ┆ concludes the     ┆               ┆              ┆             ┆          │\n",
       "│          ┆           ┆ story…            ┆               ┆              ┆             ┆          │\n",
       "│ 10138    ┆ 4         ┆ The author        ┆ 0             ┆ 0.0          ┆ 0.0         ┆ false    │\n",
       "│          ┆           ┆ concluded his     ┆               ┆              ┆             ┆          │\n",
       "│          ┆           ┆ stori…            ┆               ┆              ┆             ┆          │\n",
       "│ …        ┆ …         ┆ …                 ┆ …             ┆ …            ┆ …           ┆ …        │\n",
       "│ 9996     ┆ 4         ┆ I think the       ┆ 0             ┆ 0.0          ┆ 0.0         ┆ false    │\n",
       "│          ┆           ┆ author concludes  ┆               ┆              ┆             ┆          │\n",
       "│          ┆           ┆ t…                ┆               ┆              ┆             ┆          │\n",
       "│ 10162    ┆ 4         ┆ I think the       ┆ 2             ┆ 0.666667     ┆ 0.666667    ┆ false    │\n",
       "│          ┆           ┆ author conclades  ┆               ┆              ┆             ┆          │\n",
       "│          ┆           ┆ t…                ┆               ┆              ┆             ┆          │\n",
       "│ 9726     ┆ 4         ┆ The author ends   ┆ 2             ┆ 0.666667     ┆ 0.666667    ┆ false    │\n",
       "│          ┆           ┆ the story “Win…   ┆               ┆              ┆             ┆          │\n",
       "│ 10327    ┆ 4         ┆ The author is     ┆ 3             ┆ 1.0          ┆ 1.0         ┆ true     │\n",
       "│          ┆           ┆ expressing hope … ┆               ┆              ┆             ┆          │\n",
       "│ 9992     ┆ 4         ┆ The author ends   ┆ 0             ┆ 0.0          ┆ 0.470924    ┆ true     │\n",
       "│          ┆           ┆ the story with…   ┆               ┆              ┆             ┆          │\n",
       "└──────────┴───────────┴───────────────────┴───────────────┴──────────────┴─────────────┴──────────┘"
      ]
     },
     "execution_count": 5,
     "metadata": {},
     "output_type": "execute_result"
    }
   ],
   "source": [
    "def add_noise(data: pl.DataFrame, noise_ratio: float, noise_range: tuple, seed: int) -> pl.DataFrame:\n",
    "    np.random.seed(seed)\n",
    "    noise_indices = np.random.choice(data.shape[0], int(data.shape[0] * noise_ratio), replace=False)\n",
    "    noise_signs = np.random.choice([-1, 1], len(noise_indices))\n",
    "    noise = np.random.uniform(noise_range[0], noise_range[1], len(noise_indices))\n",
    "\n",
    "    noisy_scores = data['scaled_score'].to_numpy().copy()\n",
    "    noisy_scores[noise_indices] += noise_signs * noise\n",
    "    noisy_scores = np.clip(noisy_scores, 0, 1)  # Clipping\n",
    "\n",
    "    data = data.with_columns(pl.Series(noisy_scores).alias('noisy_score'))\n",
    "\n",
    "    is_noisy = np.zeros(data.shape[0], dtype=bool)\n",
    "    is_noisy[noise_indices] = True\n",
    "    data = data.with_columns(pl.Series(is_noisy).alias('is_noisy'))\n",
    "    return data\n",
    "\n",
    "train_data = add_noise(train_data, noise_ratio=0.2, noise_range=(0.4, 0.6), seed=RAMDOM_SEED)\n",
    "train_data"
   ]
  },
  {
   "cell_type": "markdown",
   "metadata": {},
   "source": [
    "# Step 3. Choose Valuation Type"
   ]
  },
  {
   "cell_type": "code",
   "execution_count": 13,
   "metadata": {},
   "outputs": [
    {
     "name": "stdout",
     "output_type": "stream",
     "text": [
      "\n",
      "=== LOOValuator Hyperparameters ===\n",
      "Prompt ID: 3\n",
      "Device: cpu\n",
      "Seed: 42\n",
      "Metric: mse\n",
      "Embedding Model: bert-base-uncased\n",
      "Max Length: 512\n",
      "Pooling Strategy: cls\n",
      "Batch Size: 512\n",
      "Epochs: 100\n",
      "Model Type: mlp\n",
      "Learning Rate: 0.001\n",
      "================================\n",
      "\n"
     ]
    }
   ],
   "source": [
    "# Leave-One-Out Valuation\n",
    "valuator = LOOValuator(\n",
    "    prompt_id=PROMPT_ID,\n",
    "    device='cpu',\n",
    "    seed=RAMDOM_SEED,\n",
    "    # wandb_logging=True, # if you want to log the results to wandb\n",
    "    # wandb_project='data-valuation-test', # if you want to log the results to wandb\n",
    "    # wandb_name=f'LOO-Noise-Detection-Prompt-{PROMPT_ID}', # if you want to log the results to wandb\n",
    "    # embedding_model='microsoft/deberta-v3-large',\n",
    "    embedding_model='bert-base-uncased',\n",
    ")"
   ]
  },
  {
   "cell_type": "code",
   "execution_count": 14,
   "metadata": {},
   "outputs": [
    {
     "name": "stdout",
     "output_type": "stream",
     "text": [
      "\n",
      "=== ShapleyValuator Hyperparameters ===\n",
      "Prompt ID: 3\n",
      "Device: cpu\n",
      "Seed: 42\n",
      "Metric: mse\n",
      "Embedding Model: bert-base-uncased\n",
      "Max Length: 512\n",
      "Pooling Strategy: cls\n",
      "Max Iterations: 5000\n",
      "Threshold: 0.05\n",
      "Model Type: mlp\n",
      "Learning Rate: 0.001\n",
      "================================\n",
      "\n"
     ]
    }
   ],
   "source": [
    "# Data Shapley Valuation\n",
    "valuator = ShapleyValuator(\n",
    "    prompt_id=PROMPT_ID,\n",
    "    device='cpu',\n",
    "    seed=RAMDOM_SEED,\n",
    "    # wandb_logging=True,\n",
    "    # wandb_project='data-valuation-test',\n",
    "    # wandb_name=f'Shapley-Noise-Detection-Prompt-{PROMPT_ID}',\n",
    "    embedding_model='bert-base-uncased',\n",
    ")"
   ]
  },
  {
   "cell_type": "code",
   "execution_count": 6,
   "metadata": {},
   "outputs": [
    {
     "name": "stdout",
     "output_type": "stream",
     "text": [
      "\n",
      "=== DVRLValuator Hyperparameters ===\n",
      "Prompt ID: 4\n",
      "Device: cpu\n",
      "Seed: 42\n",
      "Metric: qwk\n",
      "Embedding Model: bert-base-uncased\n",
      "Max Length: 512\n",
      "Pooling Strategy: cls\n",
      "Hidden Dimension: 100\n",
      "Combination Dimension: 10\n",
      "Iterations: 1000\n",
      "Inner Iterations: 100\n",
      "Batch Size: 10000\n",
      "Learning Rate: 0.001\n",
      "Predictor Batch Size: 512\n",
      "Model Type: mlp\n",
      "Epsilon: 1e-08\n",
      "Threshold: 0.9\n",
      "================================\n",
      "\n"
     ]
    }
   ],
   "source": [
    "# Data Valuation with Reinforcement Learning (DVRL)\n",
    "valuator = DVRLValuator(\n",
    "    prompt_id=PROMPT_ID,\n",
    "    device='cpu',\n",
    "    seed=RAMDOM_SEED,\n",
    "    # wandb_logging=True,\n",
    "    # wandb_project='data-valuation-test',\n",
    "    # wandb_name=f'DVRL-Noise-Detection-Prompt-{PROMPT_ID}',\n",
    "    embedding_model='bert-base-uncased',\n",
    ")"
   ]
  },
  {
   "cell_type": "markdown",
   "metadata": {},
   "source": [
    "# Step 4. Estimate Data Values"
   ]
  },
  {
   "cell_type": "code",
   "execution_count": 7,
   "metadata": {},
   "outputs": [
    {
     "name": "stderr",
     "output_type": "stream",
     "text": [
      "Generating embeddings: 100%|██████████| 34/34 [01:30<00:00,  2.66s/it]\n",
      "Generating embeddings: 100%|██████████| 12/12 [00:30<00:00,  2.50s/it]\n",
      "Training DVRL: 100%|██████████| 1000/1000 [21:23<00:00,  1.28s/it]"
     ]
    },
    {
     "name": "stdout",
     "output_type": "stream",
     "text": [
      "Values saved to ./output_files/estimated_values_4.csv\n"
     ]
    },
    {
     "name": "stderr",
     "output_type": "stream",
     "text": [
      "\n"
     ]
    }
   ],
   "source": [
    "estimated_values = valuator.estimate_values(\n",
    "    x_train=train_data['essay'].to_list(),\n",
    "    y_train=train_data['noisy_score'].to_numpy(),\n",
    "    x_val=dev_data['essay'].to_list(),\n",
    "    y_val=dev_data['scaled_score'].to_numpy(),\n",
    "    sample_ids=train_data['essay_id'].to_numpy(),\n",
    ")\n",
    "\n",
    "# Save the estimated values\n",
    "valuator.save_values(estimated_values, f'./output_files/estimated_values_{PROMPT_ID}.csv')"
   ]
  },
  {
   "cell_type": "markdown",
   "metadata": {},
   "source": [
    "# Step 5. Discover corrupted sample"
   ]
  },
  {
   "cell_type": "code",
   "execution_count": 6,
   "metadata": {},
   "outputs": [
    {
     "data": {
      "text/html": [
       "<div><style>\n",
       ".dataframe > thead > tr,\n",
       ".dataframe > tbody > tr {\n",
       "  text-align: right;\n",
       "  white-space: pre-wrap;\n",
       "}\n",
       "</style>\n",
       "<small>shape: (1_062, 8)</small><table border=\"1\" class=\"dataframe\"><thead><tr><th>essay_id</th><th>essay_set</th><th>essay</th><th>domain1_score</th><th>scaled_score</th><th>noisy_score</th><th>is_noisy</th><th>value</th></tr><tr><td>i64</td><td>i64</td><td>str</td><td>i64</td><td>f64</td><td>f64</td><td>bool</td><td>f64</td></tr></thead><tbody><tr><td>10325</td><td>4</td><td>&quot;In the Story the @CAPS1 conclu…</td><td>2</td><td>0.666667</td><td>0.666667</td><td>false</td><td>0.541004</td></tr><tr><td>9587</td><td>4</td><td>&quot;The author concludes the story…</td><td>2</td><td>0.666667</td><td>0.666667</td><td>false</td><td>0.53248</td></tr><tr><td>10086</td><td>4</td><td>&quot;The author includes the story …</td><td>1</td><td>0.333333</td><td>0.0</td><td>true</td><td>0.529481</td></tr><tr><td>9854</td><td>4</td><td>&quot;The author concludes the story…</td><td>1</td><td>0.333333</td><td>0.841714</td><td>true</td><td>0.517336</td></tr><tr><td>10138</td><td>4</td><td>&quot;The author concluded his stori…</td><td>0</td><td>0.0</td><td>0.0</td><td>false</td><td>0.539267</td></tr><tr><td>&hellip;</td><td>&hellip;</td><td>&hellip;</td><td>&hellip;</td><td>&hellip;</td><td>&hellip;</td><td>&hellip;</td><td>&hellip;</td></tr><tr><td>9996</td><td>4</td><td>&quot;I think the author concludes t…</td><td>0</td><td>0.0</td><td>0.0</td><td>false</td><td>0.538608</td></tr><tr><td>10162</td><td>4</td><td>&quot;I think the author conclades t…</td><td>2</td><td>0.666667</td><td>0.666667</td><td>false</td><td>0.535974</td></tr><tr><td>9726</td><td>4</td><td>&quot;The author ends the story “Win…</td><td>2</td><td>0.666667</td><td>0.666667</td><td>false</td><td>0.541268</td></tr><tr><td>10327</td><td>4</td><td>&quot;The author is expressing hope …</td><td>3</td><td>1.0</td><td>1.0</td><td>true</td><td>0.53565</td></tr><tr><td>9992</td><td>4</td><td>&quot;The author ends the story with…</td><td>0</td><td>0.0</td><td>0.470924</td><td>true</td><td>0.526825</td></tr></tbody></table></div>"
      ],
      "text/plain": [
       "shape: (1_062, 8)\n",
       "┌──────────┬───────────┬─────────────┬─────────────┬────────────┬────────────┬──────────┬──────────┐\n",
       "│ essay_id ┆ essay_set ┆ essay       ┆ domain1_sco ┆ scaled_sco ┆ noisy_scor ┆ is_noisy ┆ value    │\n",
       "│ ---      ┆ ---       ┆ ---         ┆ re          ┆ re         ┆ e          ┆ ---      ┆ ---      │\n",
       "│ i64      ┆ i64       ┆ str         ┆ ---         ┆ ---        ┆ ---        ┆ bool     ┆ f64      │\n",
       "│          ┆           ┆             ┆ i64         ┆ f64        ┆ f64        ┆          ┆          │\n",
       "╞══════════╪═══════════╪═════════════╪═════════════╪════════════╪════════════╪══════════╪══════════╡\n",
       "│ 10325    ┆ 4         ┆ In the      ┆ 2           ┆ 0.666667   ┆ 0.666667   ┆ false    ┆ 0.541004 │\n",
       "│          ┆           ┆ Story the   ┆             ┆            ┆            ┆          ┆          │\n",
       "│          ┆           ┆ @CAPS1      ┆             ┆            ┆            ┆          ┆          │\n",
       "│          ┆           ┆ conclu…     ┆             ┆            ┆            ┆          ┆          │\n",
       "│ 9587     ┆ 4         ┆ The author  ┆ 2           ┆ 0.666667   ┆ 0.666667   ┆ false    ┆ 0.53248  │\n",
       "│          ┆           ┆ concludes   ┆             ┆            ┆            ┆          ┆          │\n",
       "│          ┆           ┆ the story…  ┆             ┆            ┆            ┆          ┆          │\n",
       "│ 10086    ┆ 4         ┆ The author  ┆ 1           ┆ 0.333333   ┆ 0.0        ┆ true     ┆ 0.529481 │\n",
       "│          ┆           ┆ includes    ┆             ┆            ┆            ┆          ┆          │\n",
       "│          ┆           ┆ the story … ┆             ┆            ┆            ┆          ┆          │\n",
       "│ 9854     ┆ 4         ┆ The author  ┆ 1           ┆ 0.333333   ┆ 0.841714   ┆ true     ┆ 0.517336 │\n",
       "│          ┆           ┆ concludes   ┆             ┆            ┆            ┆          ┆          │\n",
       "│          ┆           ┆ the story…  ┆             ┆            ┆            ┆          ┆          │\n",
       "│ 10138    ┆ 4         ┆ The author  ┆ 0           ┆ 0.0        ┆ 0.0        ┆ false    ┆ 0.539267 │\n",
       "│          ┆           ┆ concluded   ┆             ┆            ┆            ┆          ┆          │\n",
       "│          ┆           ┆ his stori…  ┆             ┆            ┆            ┆          ┆          │\n",
       "│ …        ┆ …         ┆ …           ┆ …           ┆ …          ┆ …          ┆ …        ┆ …        │\n",
       "│ 9996     ┆ 4         ┆ I think the ┆ 0           ┆ 0.0        ┆ 0.0        ┆ false    ┆ 0.538608 │\n",
       "│          ┆           ┆ author      ┆             ┆            ┆            ┆          ┆          │\n",
       "│          ┆           ┆ concludes   ┆             ┆            ┆            ┆          ┆          │\n",
       "│          ┆           ┆ t…          ┆             ┆            ┆            ┆          ┆          │\n",
       "│ 10162    ┆ 4         ┆ I think the ┆ 2           ┆ 0.666667   ┆ 0.666667   ┆ false    ┆ 0.535974 │\n",
       "│          ┆           ┆ author      ┆             ┆            ┆            ┆          ┆          │\n",
       "│          ┆           ┆ conclades   ┆             ┆            ┆            ┆          ┆          │\n",
       "│          ┆           ┆ t…          ┆             ┆            ┆            ┆          ┆          │\n",
       "│ 9726     ┆ 4         ┆ The author  ┆ 2           ┆ 0.666667   ┆ 0.666667   ┆ false    ┆ 0.541268 │\n",
       "│          ┆           ┆ ends the    ┆             ┆            ┆            ┆          ┆          │\n",
       "│          ┆           ┆ story “Win… ┆             ┆            ┆            ┆          ┆          │\n",
       "│ 10327    ┆ 4         ┆ The author  ┆ 3           ┆ 1.0        ┆ 1.0        ┆ true     ┆ 0.53565  │\n",
       "│          ┆           ┆ is          ┆             ┆            ┆            ┆          ┆          │\n",
       "│          ┆           ┆ expressing  ┆             ┆            ┆            ┆          ┆          │\n",
       "│          ┆           ┆ hope …      ┆             ┆            ┆            ┆          ┆          │\n",
       "│ 9992     ┆ 4         ┆ The author  ┆ 0           ┆ 0.0        ┆ 0.470924   ┆ true     ┆ 0.526825 │\n",
       "│          ┆           ┆ ends the    ┆             ┆            ┆            ┆          ┆          │\n",
       "│          ┆           ┆ story with… ┆             ┆            ┆            ┆          ┆          │\n",
       "└──────────┴───────────┴─────────────┴─────────────┴────────────┴────────────┴──────────┴──────────┘"
      ]
     },
     "execution_count": 6,
     "metadata": {},
     "output_type": "execute_result"
    }
   ],
   "source": [
    "# Load the estimated values as DataFrame\n",
    "value_df = pl.read_csv(f'./output_files/estimated_values_{PROMPT_ID}.csv').rename({'sample_id': 'essay_id'})\n",
    "train_data = train_data.join(value_df, on='essay_id', how='left')\n",
    "train_data"
   ]
  },
  {
   "cell_type": "code",
   "execution_count": 7,
   "metadata": {},
   "outputs": [
    {
     "data": {
      "text/plain": [
       "array([0.19339623, 0.37735849, 0.51415094, 0.60849057, 0.65566038,\n",
       "       0.68396226, 0.69811321, 0.75      , 0.78301887, 0.8254717 ,\n",
       "       0.84433962, 0.86320755, 0.87735849, 0.88207547, 0.9009434 ,\n",
       "       0.93396226, 0.97169811, 0.98584906, 1.        , 1.        ])"
      ]
     },
     "execution_count": 7,
     "metadata": {},
     "output_type": "execute_result"
    },
    {
     "data": {
      "image/png": "[encoded data removed]",
      "text/plain": [
       "<Figure size 600x750 with 1 Axes>"
      ]
     },
     "metadata": {},
     "output_type": "display_data"
    }
   ],
   "source": [
    "import matplotlib.pyplot as plt\n",
    "\n",
    "def discover_corrupted_sample(dve_out, noise_mask, noise_rate, output_path=None, plot=True):\n",
    "  \"\"\"Reports True Positive Rate (TPR) of corrupted label discovery.\n",
    "\n",
    "  Args:\n",
    "    dve_out: data values (numpy array)\n",
    "    noise_mask: 各サンプルがノイズか否かを示す True/False のブール配列\n",
    "    noise_rate: ノイズサンプルの割合\n",
    "    output_path: プロット画像の出力先パス\n",
    "    plot: プロットを表示するかどうか\n",
    "\n",
    "  Returns:\n",
    "    output_perf: パーセンタイル毎（例: 5%刻み）に算出したノイズ検出率（TPR）\n",
    "  \"\"\"\n",
    "\n",
    "  # サンプルをデータ値でソート\n",
    "  num_bins = 20  # 100%を20分割\n",
    "  sort_idx = np.argsort(dve_out)\n",
    "\n",
    "  # 出力用初期化\n",
    "  output_perf = np.zeros([num_bins,])\n",
    "  total_noise = np.sum(noise_mask)  # 全ノイズサンプル数\n",
    "\n",
    "  # 各パーセンタイルごとに計算\n",
    "  for itt in range(num_bins):\n",
    "    num_samples = int((itt+1) * len(dve_out) / num_bins)\n",
    "    # 現在の範囲内でのノイズサンプル数をカウント\n",
    "    discovered_noise = np.sum(noise_mask[sort_idx[:num_samples]])\n",
    "    output_perf[itt] = discovered_noise / total_noise\n",
    "\n",
    "  # ノイズ検出率のグラフをプロット\n",
    "  if plot:\n",
    "    num_x = int(num_bins / 2 + 1)\n",
    "    x = [a * (1.0 / num_bins) for a in range(num_x)]\n",
    "    y_dvrl = np.concatenate((np.zeros(1), output_perf[:(num_x - 1)]))\n",
    "    y_opt = [min(a * ((1.0 / num_bins) / noise_rate), 1) for a in range(num_x)]\n",
    "    y_random = x\n",
    "\n",
    "    plt.figure(figsize=(6, 7.5))\n",
    "    plt.plot(x, y_dvrl, 'o-')\n",
    "    plt.plot(x, y_opt, '--')\n",
    "    plt.plot(x, y_random, ':')\n",
    "    plt.xlabel('Fraction of data Inspected', size=16)\n",
    "    plt.ylabel('Fraction of discovered corrupted samples', size=16)\n",
    "    plt.legend(['Valuation', 'Optimal', 'Random'], prop={'size': 16})\n",
    "    plt.title('Corrupted Sample Discovery', size=16)\n",
    "    if output_path:\n",
    "        plt.savefig(output_path + 'corrupted_sample_discovery.png')\n",
    "\n",
    "  # ノイズ検出率 (TPR) を返す\n",
    "  return output_perf\n",
    "\n",
    "# Assuming 'value' column contains the data values\n",
    "dve_out = train_data['value'].to_numpy()\n",
    "# Assuming 'is_noisy' column indicates corrupted samples (True for corrupted)\n",
    "noise_mask = train_data['is_noisy'].to_numpy()\n",
    "noise_rate = train_data['is_noisy'].mean()  # Calculate the noise rate\n",
    "\n",
    "# Call the function and plot\n",
    "discover_corrupted_sample(dve_out, noise_mask, noise_rate)"
   ]
  },
  {
   "cell_type": "markdown",
   "metadata": {},
   "source": [
    "# Step 6. Calculate F1 score"
   ]
  },
  {
   "cell_type": "code",
   "execution_count": 8,
   "metadata": {},
   "outputs": [
    {
     "data": {
      "text/html": [
       "<div><style>\n",
       ".dataframe > thead > tr,\n",
       ".dataframe > tbody > tr {\n",
       "  text-align: right;\n",
       "  white-space: pre-wrap;\n",
       "}\n",
       "</style>\n",
       "<small>shape: (1_062, 9)</small><table border=\"1\" class=\"dataframe\"><thead><tr><th>essay_id</th><th>essay_set</th><th>essay</th><th>domain1_score</th><th>scaled_score</th><th>noisy_score</th><th>is_noisy</th><th>value</th><th>is_noisy_kmeans</th></tr><tr><td>i64</td><td>i64</td><td>str</td><td>i64</td><td>f64</td><td>f64</td><td>bool</td><td>f64</td><td>bool</td></tr></thead><tbody><tr><td>10325</td><td>4</td><td>&quot;In the Story the @CAPS1 conclu…</td><td>2</td><td>0.666667</td><td>0.666667</td><td>false</td><td>0.541004</td><td>false</td></tr><tr><td>9587</td><td>4</td><td>&quot;The author concludes the story…</td><td>2</td><td>0.666667</td><td>0.666667</td><td>false</td><td>0.53248</td><td>true</td></tr><tr><td>10086</td><td>4</td><td>&quot;The author includes the story …</td><td>1</td><td>0.333333</td><td>0.0</td><td>true</td><td>0.529481</td><td>true</td></tr><tr><td>9854</td><td>4</td><td>&quot;The author concludes the story…</td><td>1</td><td>0.333333</td><td>0.841714</td><td>true</td><td>0.517336</td><td>true</td></tr><tr><td>10138</td><td>4</td><td>&quot;The author concluded his stori…</td><td>0</td><td>0.0</td><td>0.0</td><td>false</td><td>0.539267</td><td>false</td></tr><tr><td>&hellip;</td><td>&hellip;</td><td>&hellip;</td><td>&hellip;</td><td>&hellip;</td><td>&hellip;</td><td>&hellip;</td><td>&hellip;</td><td>&hellip;</td></tr><tr><td>9996</td><td>4</td><td>&quot;I think the author concludes t…</td><td>0</td><td>0.0</td><td>0.0</td><td>false</td><td>0.538608</td><td>false</td></tr><tr><td>10162</td><td>4</td><td>&quot;I think the author conclades t…</td><td>2</td><td>0.666667</td><td>0.666667</td><td>false</td><td>0.535974</td><td>false</td></tr><tr><td>9726</td><td>4</td><td>&quot;The author ends the story “Win…</td><td>2</td><td>0.666667</td><td>0.666667</td><td>false</td><td>0.541268</td><td>false</td></tr><tr><td>10327</td><td>4</td><td>&quot;The author is expressing hope …</td><td>3</td><td>1.0</td><td>1.0</td><td>true</td><td>0.53565</td><td>false</td></tr><tr><td>9992</td><td>4</td><td>&quot;The author ends the story with…</td><td>0</td><td>0.0</td><td>0.470924</td><td>true</td><td>0.526825</td><td>true</td></tr></tbody></table></div>"
      ],
      "text/plain": [
       "shape: (1_062, 9)\n",
       "┌──────────┬───────────┬────────────┬────────────┬───┬───────────┬──────────┬──────────┬───────────┐\n",
       "│ essay_id ┆ essay_set ┆ essay      ┆ domain1_sc ┆ … ┆ noisy_sco ┆ is_noisy ┆ value    ┆ is_noisy_ │\n",
       "│ ---      ┆ ---       ┆ ---        ┆ ore        ┆   ┆ re        ┆ ---      ┆ ---      ┆ kmeans    │\n",
       "│ i64      ┆ i64       ┆ str        ┆ ---        ┆   ┆ ---       ┆ bool     ┆ f64      ┆ ---       │\n",
       "│          ┆           ┆            ┆ i64        ┆   ┆ f64       ┆          ┆          ┆ bool      │\n",
       "╞══════════╪═══════════╪════════════╪════════════╪═══╪═══════════╪══════════╪══════════╪═══════════╡\n",
       "│ 10325    ┆ 4         ┆ In the     ┆ 2          ┆ … ┆ 0.666667  ┆ false    ┆ 0.541004 ┆ false     │\n",
       "│          ┆           ┆ Story the  ┆            ┆   ┆           ┆          ┆          ┆           │\n",
       "│          ┆           ┆ @CAPS1     ┆            ┆   ┆           ┆          ┆          ┆           │\n",
       "│          ┆           ┆ conclu…    ┆            ┆   ┆           ┆          ┆          ┆           │\n",
       "│ 9587     ┆ 4         ┆ The author ┆ 2          ┆ … ┆ 0.666667  ┆ false    ┆ 0.53248  ┆ true      │\n",
       "│          ┆           ┆ concludes  ┆            ┆   ┆           ┆          ┆          ┆           │\n",
       "│          ┆           ┆ the story… ┆            ┆   ┆           ┆          ┆          ┆           │\n",
       "│ 10086    ┆ 4         ┆ The author ┆ 1          ┆ … ┆ 0.0       ┆ true     ┆ 0.529481 ┆ true      │\n",
       "│          ┆           ┆ includes   ┆            ┆   ┆           ┆          ┆          ┆           │\n",
       "│          ┆           ┆ the story  ┆            ┆   ┆           ┆          ┆          ┆           │\n",
       "│          ┆           ┆ …          ┆            ┆   ┆           ┆          ┆          ┆           │\n",
       "│ 9854     ┆ 4         ┆ The author ┆ 1          ┆ … ┆ 0.841714  ┆ true     ┆ 0.517336 ┆ true      │\n",
       "│          ┆           ┆ concludes  ┆            ┆   ┆           ┆          ┆          ┆           │\n",
       "│          ┆           ┆ the story… ┆            ┆   ┆           ┆          ┆          ┆           │\n",
       "│ 10138    ┆ 4         ┆ The author ┆ 0          ┆ … ┆ 0.0       ┆ false    ┆ 0.539267 ┆ false     │\n",
       "│          ┆           ┆ concluded  ┆            ┆   ┆           ┆          ┆          ┆           │\n",
       "│          ┆           ┆ his stori… ┆            ┆   ┆           ┆          ┆          ┆           │\n",
       "│ …        ┆ …         ┆ …          ┆ …          ┆ … ┆ …         ┆ …        ┆ …        ┆ …         │\n",
       "│ 9996     ┆ 4         ┆ I think    ┆ 0          ┆ … ┆ 0.0       ┆ false    ┆ 0.538608 ┆ false     │\n",
       "│          ┆           ┆ the author ┆            ┆   ┆           ┆          ┆          ┆           │\n",
       "│          ┆           ┆ concludes  ┆            ┆   ┆           ┆          ┆          ┆           │\n",
       "│          ┆           ┆ t…         ┆            ┆   ┆           ┆          ┆          ┆           │\n",
       "│ 10162    ┆ 4         ┆ I think    ┆ 2          ┆ … ┆ 0.666667  ┆ false    ┆ 0.535974 ┆ false     │\n",
       "│          ┆           ┆ the author ┆            ┆   ┆           ┆          ┆          ┆           │\n",
       "│          ┆           ┆ conclades  ┆            ┆   ┆           ┆          ┆          ┆           │\n",
       "│          ┆           ┆ t…         ┆            ┆   ┆           ┆          ┆          ┆           │\n",
       "│ 9726     ┆ 4         ┆ The author ┆ 2          ┆ … ┆ 0.666667  ┆ false    ┆ 0.541268 ┆ false     │\n",
       "│          ┆           ┆ ends the   ┆            ┆   ┆           ┆          ┆          ┆           │\n",
       "│          ┆           ┆ story      ┆            ┆   ┆           ┆          ┆          ┆           │\n",
       "│          ┆           ┆ “Win…      ┆            ┆   ┆           ┆          ┆          ┆           │\n",
       "│ 10327    ┆ 4         ┆ The author ┆ 3          ┆ … ┆ 1.0       ┆ true     ┆ 0.53565  ┆ false     │\n",
       "│          ┆           ┆ is         ┆            ┆   ┆           ┆          ┆          ┆           │\n",
       "│          ┆           ┆ expressing ┆            ┆   ┆           ┆          ┆          ┆           │\n",
       "│          ┆           ┆ hope …     ┆            ┆   ┆           ┆          ┆          ┆           │\n",
       "│ 9992     ┆ 4         ┆ The author ┆ 0          ┆ … ┆ 0.470924  ┆ true     ┆ 0.526825 ┆ true      │\n",
       "│          ┆           ┆ ends the   ┆            ┆   ┆           ┆          ┆          ┆           │\n",
       "│          ┆           ┆ story      ┆            ┆   ┆           ┆          ┆          ┆           │\n",
       "│          ┆           ┆ with…      ┆            ┆   ┆           ┆          ┆          ┆           │\n",
       "└──────────┴───────────┴────────────┴────────────┴───┴───────────┴──────────┴──────────┴───────────┘"
      ]
     },
     "execution_count": 8,
     "metadata": {},
     "output_type": "execute_result"
    }
   ],
   "source": [
    "from sklearn.cluster import KMeans\n",
    "\n",
    "# Extract the 'value' column for clustering\n",
    "values = train_data['value'].to_numpy().reshape(-1, 1)\n",
    "\n",
    "# Perform KMeans clustering with 2 clusters\n",
    "kmeans = KMeans(n_clusters=2, random_state=42, n_init=10)\n",
    "train_data = train_data.with_columns(pl.Series(kmeans.fit_predict(values)).alias(\"cluster\"))\n",
    "\n",
    "# Calculate the mean value for each cluster\n",
    "cluster_means = train_data.group_by(\"cluster\").agg([pl.mean(\"value\").alias(\"mean_value\")])\n",
    "\n",
    "# Determine which cluster has higher mean value\n",
    "high_value_cluster = cluster_means.filter(pl.col(\"mean_value\") == cluster_means[\"mean_value\"].max())[\"cluster\"][0]\n",
    "\n",
    "# Assign 'is_noisy_kmeans' based on cluster assignment: \n",
    "#  - False if in the cluster with higher mean value\n",
    "#  - True otherwise\n",
    "train_data = train_data.with_columns(\n",
    "    (pl.col(\"cluster\") != high_value_cluster).alias(\"is_noisy_kmeans\")\n",
    ")\n",
    "train_data = train_data.drop(\"cluster\")\n",
    "train_data"
   ]
  },
  {
   "cell_type": "code",
   "execution_count": 9,
   "metadata": {},
   "outputs": [
    {
     "name": "stdout",
     "output_type": "stream",
     "text": [
      "F1 Score: 0.5968109339407744\n"
     ]
    }
   ],
   "source": [
    "from sklearn.metrics import f1_score\n",
    "\n",
    "# Calculate the F1 score between 'is_noisy' and 'is_noisy_kmeans'\n",
    "f1 = f1_score(train_data['is_noisy'], train_data['is_noisy_kmeans'])\n",
    "\n",
    "print(f\"F1 Score: {f1}\")"
   ]
  },
  {
   "cell_type": "markdown",
   "metadata": {},
   "source": [
    "# Step 7. Fine-tuning BERT using only non-noisy data"
   ]
  },
  {
   "cell_type": "code",
   "execution_count": null,
   "metadata": {},
   "outputs": [
    {
     "name": "stdout",
     "output_type": "stream",
     "text": [
      "Original training data size: 1062\n",
      "Non-noisy training data size: 835\n"
     ]
    },
    {
     "name": "stderr",
     "output_type": "stream",
     "text": [
      "Some weights of BertForSequenceClassification were not initialized from the model checkpoint at bert-base-uncased and are newly initialized: ['classifier.bias', 'classifier.weight']\n",
      "You should probably TRAIN this model on a down-stream task to be able to use it for predictions and inference.\n",
      "/var/folders/7j/d1bzg7hs3931c2d8kcrbhcl80000gn/T/ipykernel_18257/3259727938.py:109: FutureWarning: `tokenizer` is deprecated and will be removed in version 5.0.0 for `Trainer.__init__`. Use `processing_class` instead.\n",
      "  trainer = Trainer(\n"
     ]
    },
    {
     "name": "stdout",
     "output_type": "stream",
     "text": [
      "Starting fine-tuning for bert-base-uncased...\n"
     ]
    },
    {
     "data": {
      "text/html": [
       "\n",
       "    <div>\n",
       "      \n",
       "      <progress value='2' max='210' style='width:300px; height:20px; vertical-align: middle;'></progress>\n",
       "      [  2/210 : < :, Epoch 0.01/2]\n",
       "    </div>\n",
       "    <table border=\"1\" class=\"dataframe\">\n",
       "  <thead>\n",
       " <tr style=\"text-align: left;\">\n",
       "      <th>Epoch</th>\n",
       "      <th>Training Loss</th>\n",
       "      <th>Validation Loss</th>\n",
       "    </tr>\n",
       "  </thead>\n",
       "  <tbody>\n",
       "  </tbody>\n",
       "</table><p>"
      ],
      "text/plain": [
       "<IPython.core.display.HTML object>"
      ]
     },
     "metadata": {},
     "output_type": "display_data"
    }
   ],
   "source": [
    "from transformers import AutoTokenizer, AutoModelForSequenceClassification, TrainingArguments, Trainer, EvalPrediction\n",
    "import numpy as np\n",
    "from sklearn.metrics import mean_squared_error, mean_absolute_error, cohen_kappa_score\n",
    "import polars as pl\n",
    "import torch\n",
    "from torch.utils.data import Dataset as TorchDataset # Rename to avoid conflict\n",
    "\n",
    "# --- Configuration ---\n",
    "# Specify the pre-trained model name. Can be changed to \"roberta-base\", \"microsoft/deberta-base\", etc.\n",
    "model_name = \"bert-base-uncased\"\n",
    "num_train_epochs = 2 # Number of training epochs (adjust as needed)\n",
    "batch_size = 8 # Batch size per device (adjust based on GPU memory)\n",
    "output_dir = \"./bert_finetuned_non_noisy\" # Directory to save model checkpoints and results\n",
    "logging_dir = './logs_non_noisy' # Directory for logs\n",
    "max_length = 512 # Max sequence length for tokenizer\n",
    "\n",
    "# --- 1. Filter Non-Noisy Data ---\n",
    "# Filter the training data to keep only the samples identified as non-noisy by KMeans\n",
    "print(f\"Original training data size: {len(train_data)}\")\n",
    "non_noisy_train_data = train_data.filter(pl.col(\"is_noisy_kmeans\") == False)\n",
    "print(f\"Non-noisy training data size: {len(non_noisy_train_data)}\")\n",
    "\n",
    "# --- 3. Load Tokenizer and Model ---\n",
    "# Load the tokenizer associated with the chosen pre-trained model\n",
    "tokenizer = AutoTokenizer.from_pretrained(model_name)\n",
    "\n",
    "# Load the pre-trained model for sequence classification.\n",
    "# Set num_labels=1 for regression tasks.\n",
    "model = AutoModelForSequenceClassification.from_pretrained(model_name, num_labels=1)\n",
    "\n",
    "# --- 4. Tokenize Data ---\n",
    "# Tokenize the texts using the loaded tokenizer\n",
    "train_encodings = tokenizer(non_noisy_train_data['essay'].to_list(), truncation=True, padding=\"max_length\", max_length=max_length)\n",
    "dev_encodings = tokenizer(dev_data['essay'].to_list(), truncation=True, padding=\"max_length\", max_length=max_length)\n",
    "test_encodings = tokenizer(test_data['essay'].to_list(), truncation=True, padding=\"max_length\", max_length=max_length)\n",
    "\n",
    "# --- 5. Create Custom PyTorch Dataset ---\n",
    "class EssayDataset(TorchDataset):\n",
    "    def __init__(self, encodings, labels):\n",
    "        self.encodings = encodings\n",
    "        self.labels = labels\n",
    "\n",
    "    def __getitem__(self, idx):\n",
    "        # Retrieve tokenized inputs for the given index\n",
    "        item = {key: torch.tensor(val[idx]) for key, val in self.encodings.items()}\n",
    "        # Add the corresponding label, converting it to a tensor\n",
    "        item['labels'] = torch.tensor(self.labels[idx], dtype=torch.float) # Ensure label is float tensor\n",
    "        return item\n",
    "\n",
    "    def __len__(self):\n",
    "        # Return the total number of samples\n",
    "        return len(self.labels)\n",
    "\n",
    "# Instantiate the custom dataset for training and evaluation sets\n",
    "train_dataset = EssayDataset(train_encodings, non_noisy_train_data['scaled_score'])\n",
    "dev_dataset = EssayDataset(dev_encodings, dev_data['scaled_score'])\n",
    "test_dataset = EssayDataset(test_encodings, test_data['scaled_score'])\n",
    "\n",
    "# --- 6. Define Training Arguments ---\n",
    "# Configure the training process using TrainingArguments (remains the same)\n",
    "training_args = TrainingArguments(\n",
    "    output_dir=output_dir,\n",
    "    num_train_epochs=num_train_epochs,\n",
    "    per_device_train_batch_size=batch_size,\n",
    "    per_device_eval_batch_size=batch_size,\n",
    "    warmup_ratio=0.1, # Number of steps for learning rate warmup\n",
    "    weight_decay=0.001, # Strength of weight decay regularization\n",
    "    logging_dir=logging_dir,\n",
    "    logging_strategy=\"steps\",  # Log metrics at the end of each epoch\n",
    "    logging_steps=10, # Log every 10 steps\n",
    "    eval_strategy=\"epoch\",     # Evaluate at the end of each epoch\n",
    "    save_strategy=\"epoch\",\n",
    "    load_best_model_at_end=True, # Load the best model found during training at the end\n",
    "    metric_for_best_model=\"eval_dev_qwk\", # Use Mean Squared Error to determine the best model\n",
    "    greater_is_better=True, # Lower MSE is better\n",
    "    report_to=\"none\", # Disable external reporting integrations like WandB/TensorBoard for simplicity\n",
    "    fp16=torch.cuda.is_available(), # Use mixed precision training if a GPU is available\n",
    ")\n",
    "\n",
    "# --- 7. Define Compute Metrics Function ---\n",
    "# Define a function to compute metrics during evaluation (MSE, MAE, and QWK for regression)\n",
    "def prepare_compute_metrics(minscore, maxscore):\n",
    "    def compute_metrics(eval_pred: EvalPrediction):\n",
    "        predictions, labels = eval_pred\n",
    "        # Predictions might be logits or regression outputs, squeeze them if necessary\n",
    "        predictions = predictions.squeeze(-1)\n",
    "\n",
    "        # Calculate standard regression metrics\n",
    "        rmse = np.sqrt(mean_squared_error(labels, predictions))\n",
    "        mae = mean_absolute_error(labels, predictions)\n",
    "\n",
    "        # Convert predictions and labels to scores based on min/max values\n",
    "        # This step is necessary for calculating QWK\n",
    "        predictions = predictions * (maxscore - minscore) + minscore\n",
    "        labels = labels * (maxscore - minscore) + minscore\n",
    "        qwk = cohen_kappa_score(np.round(predictions), np.round(labels), weights=\"quadratic\", labels=[i for i in range(minscore, maxscore + 1)])\n",
    "        lwk = cohen_kappa_score(np.round(predictions), np.round(labels), weights=\"linear\", labels=[i for i in range(minscore, maxscore + 1)])\n",
    "\n",
    "        # Calculate Correlation Coefficient\n",
    "        corr = np.corrcoef(predictions, labels)[0, 1]\n",
    "\n",
    "        return {\"rmse\": rmse, \"mae\": mae, \"qwk\": qwk, \"lwk\": lwk, \"corr\": corr}\n",
    "    return compute_metrics\n",
    "\n",
    "# --- 8. Instantiate Trainer ---\n",
    "# Initialize the Trainer with the model, arguments, custom datasets, tokenizer, and metrics function\n",
    "# Note: The tokenizer is still passed for potential use cases like saving, but not strictly needed for data loading now.\n",
    "minscore, maxscore = get_min_max_scores()[PROMPT_ID]['score']\n",
    "trainer = Trainer(\n",
    "    model=model,\n",
    "    args=training_args,\n",
    "    train_dataset=train_dataset,\n",
    "    eval_dataset=[dev_dataset, test_dataset],\n",
    "    tokenizer=tokenizer,\n",
    "    compute_metrics=prepare_compute_metrics(minscore, maxscore),\n",
    ")\n",
    "\n",
    "# --- 9. Train the Model ---\n",
    "print(f\"Starting fine-tuning for {model_name}...\")\n",
    "trainer.train()\n",
    "print(\"Fine-tuning completed.\")\n",
    "\n",
    "# --- (Optional) Evaluate the Best Model ---\n",
    "print(\"Evaluating the best model on the validation set...\")\n",
    "eval_results = trainer.evaluate(eval_dataset=test_dataset)\n",
    "print(\"Evaluation results:\", eval_results)"
   ]
  },
  {
   "cell_type": "code",
   "execution_count": null,
   "metadata": {},
   "outputs": [],
   "source": []
  }
 ],
 "metadata": {
  "kernelspec": {
   "display_name": ".venv",
   "language": "python",
   "name": "python3"
  },
  "language_info": {
   "codemirror_mode": {
    "name": "ipython",
    "version": 3
   },
   "file_extension": ".py",
   "mimetype": "text/x-python",
   "name": "python",
   "nbconvert_exporter": "python",
   "pygments_lexer": "ipython3",
   "version": "3.11.0"
  }
 },
 "nbformat": 4,
 "nbformat_minor": 2
}
