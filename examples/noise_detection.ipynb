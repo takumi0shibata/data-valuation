{
 "cells": [
  {
   "cell_type": "code",
   "execution_count": 1,
   "metadata": {},
   "outputs": [
    {
     "name": "stderr",
     "output_type": "stream",
     "text": [
      "/Users/takumishibata/Documents/project/data-valuation/.venv/lib/python3.11/site-packages/tqdm/auto.py:21: TqdmWarning: IProgress not found. Please update jupyter and ipywidgets. See https://ipywidgets.readthedocs.io/en/stable/user_install.html\n",
      "  from .autonotebook import tqdm as notebook_tqdm\n"
     ]
    }
   ],
   "source": [
    "import polars as pl\n",
    "import numpy as np\n",
    "\n",
    "from data_valuation.core.loo_valuator import LOOValuator\n",
    "from data_valuation.core.shapley_valuator import ShapleyValuator\n",
    "from data_valuation.core.dvrl_valuator import DVRLValuator\n",
    "from data_valuation.utils.data_utils import get_min_max_scores"
   ]
  },
  {
   "cell_type": "markdown",
   "metadata": {},
   "source": [
    "# Step 1. Load ASAP dataset"
   ]
  },
  {
   "cell_type": "code",
   "execution_count": 2,
   "metadata": {},
   "outputs": [],
   "source": [
    "def scale_score(score: int, essay_set: int, score_dict: dict) -> float:\n",
    "    minscore, maxscore = score_dict[essay_set]['score']\n",
    "    return (score - minscore) / (maxscore - minscore)"
   ]
  },
  {
   "cell_type": "code",
   "execution_count": 3,
   "metadata": {},
   "outputs": [
    {
     "name": "stderr",
     "output_type": "stream",
     "text": [
      "Could not determine dtype for column 5, falling back to string\n",
      "Could not determine dtype for column 7, falling back to string\n",
      "Could not determine dtype for column 8, falling back to string\n",
      "Could not determine dtype for column 9, falling back to string\n",
      "Could not determine dtype for column 10, falling back to string\n",
      "Could not determine dtype for column 11, falling back to string\n",
      "Could not determine dtype for column 12, falling back to string\n",
      "Could not determine dtype for column 13, falling back to string\n",
      "Could not determine dtype for column 14, falling back to string\n",
      "Could not determine dtype for column 15, falling back to string\n",
      "Could not determine dtype for column 16, falling back to string\n",
      "Could not determine dtype for column 17, falling back to string\n",
      "Could not determine dtype for column 18, falling back to string\n",
      "Could not determine dtype for column 19, falling back to string\n",
      "Could not determine dtype for column 20, falling back to string\n",
      "Could not determine dtype for column 21, falling back to string\n",
      "Could not determine dtype for column 22, falling back to string\n",
      "Could not determine dtype for column 23, falling back to string\n",
      "Could not determine dtype for column 24, falling back to string\n",
      "Could not determine dtype for column 25, falling back to string\n",
      "Could not determine dtype for column 26, falling back to string\n",
      "Could not determine dtype for column 27, falling back to string\n"
     ]
    },
    {
     "data": {
      "text/html": [
       "<div><style>\n",
       ".dataframe > thead > tr,\n",
       ".dataframe > tbody > tr {\n",
       "  text-align: right;\n",
       "  white-space: pre-wrap;\n",
       "}\n",
       "</style>\n",
       "<small>shape: (1_783, 5)</small><table border=\"1\" class=\"dataframe\"><thead><tr><th>essay_id</th><th>essay_set</th><th>essay</th><th>domain1_score</th><th>scaled_score</th></tr><tr><td>i64</td><td>i64</td><td>str</td><td>i64</td><td>f64</td></tr></thead><tbody><tr><td>1</td><td>1</td><td>&quot;Dear local newspaper, I think …</td><td>8</td><td>0.6</td></tr><tr><td>2</td><td>1</td><td>&quot;Dear @CAPS1 @CAPS2, I believe …</td><td>9</td><td>0.7</td></tr><tr><td>3</td><td>1</td><td>&quot;Dear, @CAPS1 @CAPS2 @CAPS3 Mor…</td><td>7</td><td>0.5</td></tr><tr><td>4</td><td>1</td><td>&quot;Dear Local Newspaper, @CAPS1 I…</td><td>10</td><td>0.8</td></tr><tr><td>5</td><td>1</td><td>&quot;Dear @LOCATION1, I know having…</td><td>8</td><td>0.6</td></tr><tr><td>&hellip;</td><td>&hellip;</td><td>&hellip;</td><td>&hellip;</td><td>&hellip;</td></tr><tr><td>1783</td><td>1</td><td>&quot;Dear @CAPS1, @CAPS2 several re…</td><td>8</td><td>0.6</td></tr><tr><td>1784</td><td>1</td><td>&quot;Do a adults and kids spend to …</td><td>7</td><td>0.5</td></tr><tr><td>1785</td><td>1</td><td>&quot;My opinion is that people shou…</td><td>8</td><td>0.6</td></tr><tr><td>1786</td><td>1</td><td>&quot;Dear readers, I think that its…</td><td>2</td><td>0.0</td></tr><tr><td>1787</td><td>1</td><td>&quot;Dear - Local Newspaper I agree…</td><td>7</td><td>0.5</td></tr></tbody></table></div>"
      ],
      "text/plain": [
       "shape: (1_783, 5)\n",
       "┌──────────┬───────────┬─────────────────────────────────┬───────────────┬──────────────┐\n",
       "│ essay_id ┆ essay_set ┆ essay                           ┆ domain1_score ┆ scaled_score │\n",
       "│ ---      ┆ ---       ┆ ---                             ┆ ---           ┆ ---          │\n",
       "│ i64      ┆ i64       ┆ str                             ┆ i64           ┆ f64          │\n",
       "╞══════════╪═══════════╪═════════════════════════════════╪═══════════════╪══════════════╡\n",
       "│ 1        ┆ 1         ┆ Dear local newspaper, I think … ┆ 8             ┆ 0.6          │\n",
       "│ 2        ┆ 1         ┆ Dear @CAPS1 @CAPS2, I believe … ┆ 9             ┆ 0.7          │\n",
       "│ 3        ┆ 1         ┆ Dear, @CAPS1 @CAPS2 @CAPS3 Mor… ┆ 7             ┆ 0.5          │\n",
       "│ 4        ┆ 1         ┆ Dear Local Newspaper, @CAPS1 I… ┆ 10            ┆ 0.8          │\n",
       "│ 5        ┆ 1         ┆ Dear @LOCATION1, I know having… ┆ 8             ┆ 0.6          │\n",
       "│ …        ┆ …         ┆ …                               ┆ …             ┆ …            │\n",
       "│ 1783     ┆ 1         ┆ Dear @CAPS1, @CAPS2 several re… ┆ 8             ┆ 0.6          │\n",
       "│ 1784     ┆ 1         ┆ Do a adults and kids spend to … ┆ 7             ┆ 0.5          │\n",
       "│ 1785     ┆ 1         ┆ My opinion is that people shou… ┆ 8             ┆ 0.6          │\n",
       "│ 1786     ┆ 1         ┆ Dear readers, I think that its… ┆ 2             ┆ 0.0          │\n",
       "│ 1787     ┆ 1         ┆ Dear - Local Newspaper I agree… ┆ 7             ┆ 0.5          │\n",
       "└──────────┴───────────┴─────────────────────────────────┴───────────────┴──────────────┘"
      ]
     },
     "execution_count": 3,
     "metadata": {},
     "output_type": "execute_result"
    }
   ],
   "source": [
    "PROMPT_ID = 1\n",
    "RAMDOM_SEED = 42\n",
    "\n",
    "asap_data = pl.read_excel('training_set_rel3.xlsx')\n",
    "asap_data = asap_data.drop_nulls(\"domain1_score\")\n",
    "asap_data = asap_data.select(['essay_id', 'essay_set', 'essay', 'domain1_score'])\n",
    "asap_data = asap_data.with_columns(\n",
    "    pl.struct(['domain1_score', 'essay_set'])\n",
    "    .map_elements(lambda x: scale_score(x['domain1_score'], x['essay_set'], get_min_max_scores()), return_dtype=pl.Float64)\n",
    "    .alias('scaled_score')\n",
    ")\n",
    "asap_data = asap_data.filter(pl.col('essay_set') == PROMPT_ID)\n",
    "asap_data"
   ]
  },
  {
   "cell_type": "code",
   "execution_count": 4,
   "metadata": {},
   "outputs": [
    {
     "name": "stdout",
     "output_type": "stream",
     "text": [
      "Train data size: (1069, 5)\n",
      "Dev data size: (357, 5)\n",
      "Test data size: (357, 5)\n"
     ]
    }
   ],
   "source": [
    "from sklearn.model_selection import train_test_split\n",
    "\n",
    "train_data, temp_data = train_test_split(asap_data, train_size=0.6, random_state=RAMDOM_SEED)\n",
    "dev_data, test_data = train_test_split(temp_data, test_size=0.5, random_state=RAMDOM_SEED)\n",
    "\n",
    "print(f\"Train data size: {train_data.shape}\")\n",
    "print(f\"Dev data size: {dev_data.shape}\")\n",
    "print(f\"Test data size: {test_data.shape}\")"
   ]
  },
  {
   "cell_type": "markdown",
   "metadata": {},
   "source": [
    "# Step 2. Add noise"
   ]
  },
  {
   "cell_type": "code",
   "execution_count": 5,
   "metadata": {},
   "outputs": [
    {
     "data": {
      "text/html": [
       "<div><style>\n",
       ".dataframe > thead > tr,\n",
       ".dataframe > tbody > tr {\n",
       "  text-align: right;\n",
       "  white-space: pre-wrap;\n",
       "}\n",
       "</style>\n",
       "<small>shape: (1_069, 7)</small><table border=\"1\" class=\"dataframe\"><thead><tr><th>essay_id</th><th>essay_set</th><th>essay</th><th>domain1_score</th><th>scaled_score</th><th>noisy_score</th><th>is_noisy</th></tr><tr><td>i64</td><td>i64</td><td>str</td><td>i64</td><td>f64</td><td>f64</td><td>bool</td></tr></thead><tbody><tr><td>1666</td><td>1</td><td>&quot;Dear @LOCATION1 press, I have …</td><td>9</td><td>0.7</td><td>0.7</td><td>false</td></tr><tr><td>1530</td><td>1</td><td>&quot;To: @ORGANIZATION1 goes so fas…</td><td>8</td><td>0.6</td><td>0.6</td><td>false</td></tr><tr><td>884</td><td>1</td><td>&quot;Dear local newspaper, I&#x27;ve hea…</td><td>8</td><td>0.6</td><td>1.0</td><td>true</td></tr><tr><td>1473</td><td>1</td><td>&quot;Dear local news paper, This pa…</td><td>6</td><td>0.4</td><td>0.872612</td><td>true</td></tr><tr><td>733</td><td>1</td><td>&quot;Honestly, I totally and absolu…</td><td>8</td><td>0.6</td><td>0.6</td><td>false</td></tr><tr><td>&hellip;</td><td>&hellip;</td><td>&hellip;</td><td>&hellip;</td><td>&hellip;</td><td>&hellip;</td><td>&hellip;</td></tr><tr><td>1134</td><td>1</td><td>&quot;Dear sir, I belive that comput…</td><td>6</td><td>0.4</td><td>0.4</td><td>false</td></tr><tr><td>1299</td><td>1</td><td>&quot;Dear @PERSON2, Have you ever n…</td><td>11</td><td>0.9</td><td>0.9</td><td>false</td></tr><tr><td>863</td><td>1</td><td>&quot;Dear @CAPS1, @CAPS2 are very d…</td><td>10</td><td>0.8</td><td>0.8</td><td>false</td></tr><tr><td>1464</td><td>1</td><td>&quot;Dear Readers @ORGANIZATION1 th…</td><td>10</td><td>0.8</td><td>0.8</td><td>false</td></tr><tr><td>1129</td><td>1</td><td>&quot;Dear local Newspaper, This ear…</td><td>8</td><td>0.6</td><td>1.0</td><td>true</td></tr></tbody></table></div>"
      ],
      "text/plain": [
       "shape: (1_069, 7)\n",
       "┌──────────┬───────────┬───────────────────┬───────────────┬──────────────┬─────────────┬──────────┐\n",
       "│ essay_id ┆ essay_set ┆ essay             ┆ domain1_score ┆ scaled_score ┆ noisy_score ┆ is_noisy │\n",
       "│ ---      ┆ ---       ┆ ---               ┆ ---           ┆ ---          ┆ ---         ┆ ---      │\n",
       "│ i64      ┆ i64       ┆ str               ┆ i64           ┆ f64          ┆ f64         ┆ bool     │\n",
       "╞══════════╪═══════════╪═══════════════════╪═══════════════╪══════════════╪═════════════╪══════════╡\n",
       "│ 1666     ┆ 1         ┆ Dear @LOCATION1   ┆ 9             ┆ 0.7          ┆ 0.7         ┆ false    │\n",
       "│          ┆           ┆ press, I have …   ┆               ┆              ┆             ┆          │\n",
       "│ 1530     ┆ 1         ┆ To:               ┆ 8             ┆ 0.6          ┆ 0.6         ┆ false    │\n",
       "│          ┆           ┆ @ORGANIZATION1    ┆               ┆              ┆             ┆          │\n",
       "│          ┆           ┆ goes so fas…      ┆               ┆              ┆             ┆          │\n",
       "│ 884      ┆ 1         ┆ Dear local        ┆ 8             ┆ 0.6          ┆ 1.0         ┆ true     │\n",
       "│          ┆           ┆ newspaper, I've   ┆               ┆              ┆             ┆          │\n",
       "│          ┆           ┆ hea…              ┆               ┆              ┆             ┆          │\n",
       "│ 1473     ┆ 1         ┆ Dear local news   ┆ 6             ┆ 0.4          ┆ 0.872612    ┆ true     │\n",
       "│          ┆           ┆ paper, This pa…   ┆               ┆              ┆             ┆          │\n",
       "│ 733      ┆ 1         ┆ Honestly, I       ┆ 8             ┆ 0.6          ┆ 0.6         ┆ false    │\n",
       "│          ┆           ┆ totally and       ┆               ┆              ┆             ┆          │\n",
       "│          ┆           ┆ absolu…           ┆               ┆              ┆             ┆          │\n",
       "│ …        ┆ …         ┆ …                 ┆ …             ┆ …            ┆ …           ┆ …        │\n",
       "│ 1134     ┆ 1         ┆ Dear sir, I       ┆ 6             ┆ 0.4          ┆ 0.4         ┆ false    │\n",
       "│          ┆           ┆ belive that       ┆               ┆              ┆             ┆          │\n",
       "│          ┆           ┆ comput…           ┆               ┆              ┆             ┆          │\n",
       "│ 1299     ┆ 1         ┆ Dear @PERSON2,    ┆ 11            ┆ 0.9          ┆ 0.9         ┆ false    │\n",
       "│          ┆           ┆ Have you ever n…  ┆               ┆              ┆             ┆          │\n",
       "│ 863      ┆ 1         ┆ Dear @CAPS1,      ┆ 10            ┆ 0.8          ┆ 0.8         ┆ false    │\n",
       "│          ┆           ┆ @CAPS2 are very   ┆               ┆              ┆             ┆          │\n",
       "│          ┆           ┆ d…                ┆               ┆              ┆             ┆          │\n",
       "│ 1464     ┆ 1         ┆ Dear Readers      ┆ 10            ┆ 0.8          ┆ 0.8         ┆ false    │\n",
       "│          ┆           ┆ @ORGANIZATION1    ┆               ┆              ┆             ┆          │\n",
       "│          ┆           ┆ th…               ┆               ┆              ┆             ┆          │\n",
       "│ 1129     ┆ 1         ┆ Dear local        ┆ 8             ┆ 0.6          ┆ 1.0         ┆ true     │\n",
       "│          ┆           ┆ Newspaper, This   ┆               ┆              ┆             ┆          │\n",
       "│          ┆           ┆ ear…              ┆               ┆              ┆             ┆          │\n",
       "└──────────┴───────────┴───────────────────┴───────────────┴──────────────┴─────────────┴──────────┘"
      ]
     },
     "execution_count": 5,
     "metadata": {},
     "output_type": "execute_result"
    }
   ],
   "source": [
    "def add_noise(data: pl.DataFrame, noise_ratio: float, noise_range: tuple, seed: int) -> pl.DataFrame:\n",
    "    np.random.seed(seed)\n",
    "    noise_indices = np.random.choice(data.shape[0], int(data.shape[0] * noise_ratio), replace=False)\n",
    "    noise = np.random.uniform(noise_range[0], noise_range[1], len(noise_indices))\n",
    "\n",
    "    noisy_scores = data['scaled_score'].to_numpy().copy()\n",
    "    noisy_scores[noise_indices] += noise\n",
    "    noisy_scores = np.clip(noisy_scores, 0, 1)  # Clipping\n",
    "\n",
    "    data = data.with_columns(pl.Series(noisy_scores).alias('noisy_score'))\n",
    "\n",
    "    is_noisy = np.zeros(data.shape[0], dtype=bool)\n",
    "    is_noisy[noise_indices] = True\n",
    "    data = data.with_columns(pl.Series(is_noisy).alias('is_noisy'))\n",
    "    return data\n",
    "\n",
    "train_data = add_noise(train_data, noise_ratio=0.2, noise_range=(0.4, 0.6), seed=RAMDOM_SEED)\n",
    "train_data"
   ]
  },
  {
   "cell_type": "markdown",
   "metadata": {},
   "source": [
    "# Step 3. Choose Valuation Type"
   ]
  },
  {
   "cell_type": "code",
   "execution_count": null,
   "metadata": {},
   "outputs": [],
   "source": [
    "# Leave-One-Out Valuation\n",
    "valuator = LOOValuator(\n",
    "    prompt_id=PROMPT_ID,\n",
    "    device='cpu',\n",
    "    seed=RAMDOM_SEED,\n",
    "    wandb_logging=True, # if you want to log the results to wandb\n",
    "    wandb_project='data-valuation-test', # if you want to log the results to wandb\n",
    "    wandb_name=f'LOO-Noise-Detection-Prompt-{PROMPT_ID}', # if you want to log the results to wandb\n",
    "    # embedding_model='microsoft/deberta-v3-large',\n",
    "    embedding_model='bert-base-uncased',\n",
    ")"
   ]
  },
  {
   "cell_type": "code",
   "execution_count": null,
   "metadata": {},
   "outputs": [],
   "source": [
    "# Data Shapley Valuation\n",
    "valuator = ShapleyValuator(\n",
    "    prompt_id=PROMPT_ID,\n",
    "    device='cpu',\n",
    "    seed=RAMDOM_SEED,\n",
    "    wandb_logging=True,\n",
    "    wandb_project='data-valuation-test',\n",
    "    wandb_name=f'Shapley-Noise-Detection-Prompt-{PROMPT_ID}',\n",
    "    embedding_model='bert-base-uncased',\n",
    ")"
   ]
  },
  {
   "cell_type": "code",
   "execution_count": 6,
   "metadata": {},
   "outputs": [
    {
     "name": "stderr",
     "output_type": "stream",
     "text": [
      "\u001b[34m\u001b[1mwandb\u001b[0m: Using wandb-core as the SDK backend.  Please refer to https://wandb.me/wandb-core for more information.\n"
     ]
    },
    {
     "name": "stdout",
     "output_type": "stream",
     "text": [
      "\n",
      "=== DVRLValuator Hyperparameters ===\n",
      "Prompt ID: 1\n",
      "Device: cpu\n",
      "Seed: 42\n",
      "Metric: qwk\n",
      "Embedding Model: bert-base-uncased\n",
      "Max Length: 512\n",
      "Hidden Dimension: 100\n",
      "Combination Dimension: 10\n",
      "Iterations: 1000\n",
      "Inner Iterations: 100\n",
      "Batch Size: 10000\n",
      "Learning Rate: 0.001\n",
      "Predictor Batch Size: 512\n",
      "Model Type: mlp\n",
      "Epsilon: 1e-08\n",
      "Threshold: 0.9\n",
      "================================\n",
      "\n"
     ]
    },
    {
     "name": "stderr",
     "output_type": "stream",
     "text": [
      "\u001b[34m\u001b[1mwandb\u001b[0m: Currently logged in as: \u001b[33mshibata\u001b[0m to \u001b[32mhttps://api.wandb.ai\u001b[0m. Use \u001b[1m`wandb login --relogin`\u001b[0m to force relogin\n"
     ]
    },
    {
     "data": {
      "text/html": [
       "Tracking run with wandb version 0.19.7"
      ],
      "text/plain": [
       "<IPython.core.display.HTML object>"
      ]
     },
     "metadata": {},
     "output_type": "display_data"
    },
    {
     "data": {
      "text/html": [
       "Run data is saved locally in <code>/Users/takumishibata/Documents/project/data-valuation/examples/wandb/run-20250304_210931-b69jbmlo</code>"
      ],
      "text/plain": [
       "<IPython.core.display.HTML object>"
      ]
     },
     "metadata": {},
     "output_type": "display_data"
    },
    {
     "data": {
      "text/html": [
       "Syncing run <strong><a href='https://wandb.ai/shibata/data-valuation-test/runs/b69jbmlo' target=\"_blank\">DVRL-Noise-Detection-Prompt-1</a></strong> to <a href='https://wandb.ai/shibata/data-valuation-test' target=\"_blank\">Weights & Biases</a> (<a href='https://wandb.me/developer-guide' target=\"_blank\">docs</a>)<br>"
      ],
      "text/plain": [
       "<IPython.core.display.HTML object>"
      ]
     },
     "metadata": {},
     "output_type": "display_data"
    },
    {
     "data": {
      "text/html": [
       " View project at <a href='https://wandb.ai/shibata/data-valuation-test' target=\"_blank\">https://wandb.ai/shibata/data-valuation-test</a>"
      ],
      "text/plain": [
       "<IPython.core.display.HTML object>"
      ]
     },
     "metadata": {},
     "output_type": "display_data"
    },
    {
     "data": {
      "text/html": [
       " View run at <a href='https://wandb.ai/shibata/data-valuation-test/runs/b69jbmlo' target=\"_blank\">https://wandb.ai/shibata/data-valuation-test/runs/b69jbmlo</a>"
      ],
      "text/plain": [
       "<IPython.core.display.HTML object>"
      ]
     },
     "metadata": {},
     "output_type": "display_data"
    },
    {
     "name": "stderr",
     "output_type": "stream",
     "text": [
      "Generating embeddings: 100%|██████████| 34/34 [03:26<00:00,  6.07s/it]\n",
      "Generating embeddings: 100%|██████████| 12/12 [01:09<00:00,  5.79s/it]\n",
      "Training DVRL: 100%|██████████| 1000/1000 [20:05<00:00,  1.21s/it]\n"
     ]
    },
    {
     "data": {
      "text/html": [],
      "text/plain": [
       "<IPython.core.display.HTML object>"
      ]
     },
     "metadata": {},
     "output_type": "display_data"
    },
    {
     "data": {
      "text/html": [
       "<br>    <style><br>        .wandb-row {<br>            display: flex;<br>            flex-direction: row;<br>            flex-wrap: wrap;<br>            justify-content: flex-start;<br>            width: 100%;<br>        }<br>        .wandb-col {<br>            display: flex;<br>            flex-direction: column;<br>            flex-basis: 100%;<br>            flex: 1;<br>            padding: 10px;<br>        }<br>    </style><br><div class=\"wandb-row\"><div class=\"wandb-col\"><h3>Run history:</h3><br/><table class=\"wandb\"><tr><td>dvrl_loss</td><td>▂▇▃▅█▅▆▅▆▆▃▇▆▄▁▂▇▃▂▆▃▆▆▅▄▃▅▂▄▅▅▄▄▆▄▇▃▄▅▄</td></tr><tr><td>iteration</td><td>▁▁▂▂▂▂▂▂▂▂▃▃▃▃▃▄▄▄▄▄▅▅▅▅▅▆▆▆▆▆▆▇▇▇▇▇▇▇██</td></tr><tr><td>max_prob</td><td>▁▁▃▃▄▇▇███▆▆▆▆▆▂▂▂▂▁▂▄▅▅▅▅▆▆▆▆▆▆▆▆▆▆▆▆▆▆</td></tr><tr><td>min_prob</td><td>▂▂▄▇▇██▆▆▆▇▅▃▂▃▁▁▁▂▂▃▄▆▆▆▅▆▆▇▇▇▆▆▆▆▆▆▆▆▆</td></tr><tr><td>qwk</td><td>▆▂▃▄▄▄▆▄▅▃▄▁▇▃▂█▆▂▄▃▃█▆▄▃▄▄▇▆▅▃▂▄▇▁▄▅▆▆█</td></tr><tr><td>reward</td><td>▄▁▆█▇▆▃▅█▁▅▆▅▄▆▆▆▄▇▃▅▆▆▂▅▄▄▇▄▆▄▇█▄▅▇█▇▅▆</td></tr></table><br/></div><div class=\"wandb-col\"><h3>Run summary:</h3><br/><table class=\"wandb\"><tr><td>dvrl_loss</td><td>26.87365</td></tr><tr><td>iteration</td><td>999</td></tr><tr><td>max_prob</td><td>0.56692</td></tr><tr><td>min_prob</td><td>0.55449</td></tr><tr><td>qwk</td><td>0.6772</td></tr><tr><td>reward</td><td>0.03695</td></tr></table><br/></div></div>"
      ],
      "text/plain": [
       "<IPython.core.display.HTML object>"
      ]
     },
     "metadata": {},
     "output_type": "display_data"
    },
    {
     "data": {
      "text/html": [
       " View run <strong style=\"color:#cdcd00\">DVRL-Noise-Detection-Prompt-1</strong> at: <a href='https://wandb.ai/shibata/data-valuation-test/runs/b69jbmlo' target=\"_blank\">https://wandb.ai/shibata/data-valuation-test/runs/b69jbmlo</a><br> View project at: <a href='https://wandb.ai/shibata/data-valuation-test' target=\"_blank\">https://wandb.ai/shibata/data-valuation-test</a><br>Synced 5 W&B file(s), 0 media file(s), 0 artifact file(s) and 0 other file(s)"
      ],
      "text/plain": [
       "<IPython.core.display.HTML object>"
      ]
     },
     "metadata": {},
     "output_type": "display_data"
    },
    {
     "data": {
      "text/html": [
       "Find logs at: <code>./wandb/run-20250304_210931-b69jbmlo/logs</code>"
      ],
      "text/plain": [
       "<IPython.core.display.HTML object>"
      ]
     },
     "metadata": {},
     "output_type": "display_data"
    },
    {
     "name": "stdout",
     "output_type": "stream",
     "text": [
      "Values saved to ./shapley_values_1.csv\n"
     ]
    }
   ],
   "source": [
    "# Data Valuation with Reinforcement Learning (DVRL)\n",
    "valuator = DVRLValuator(\n",
    "    prompt_id=PROMPT_ID,\n",
    "    device='cpu',\n",
    "    seed=RAMDOM_SEED,\n",
    "    wandb_logging=True,\n",
    "    wandb_project='data-valuation-test',\n",
    "    wandb_name=f'DVRL-Noise-Detection-Prompt-{PROMPT_ID}',\n",
    "    embedding_model='bert-base-uncased',\n",
    ")"
   ]
  },
  {
   "cell_type": "markdown",
   "metadata": {},
   "source": [
    "# Step 4. Estimate Data Values"
   ]
  },
  {
   "cell_type": "code",
   "execution_count": 7,
   "metadata": {},
   "outputs": [
    {
     "ename": "NameError",
     "evalue": "name 'estimated_values' is not defined",
     "output_type": "error",
     "traceback": [
      "\u001b[31m---------------------------------------------------------------------------\u001b[39m",
      "\u001b[31mNameError\u001b[39m                                 Traceback (most recent call last)",
      "\u001b[36mCell\u001b[39m\u001b[36m \u001b[39m\u001b[32mIn[7]\u001b[39m\u001b[32m, line 13\u001b[39m\n\u001b[32m      1\u001b[39m \u001b[38;5;66;03m# estimated_values = valuator.estimate_values(\u001b[39;00m\n\u001b[32m      2\u001b[39m \u001b[38;5;66;03m#     x_train=train_data['essay'].to_list(),\u001b[39;00m\n\u001b[32m      3\u001b[39m \u001b[38;5;66;03m#     y_train=train_data['noisy_score'].to_numpy(),\u001b[39;00m\n\u001b[32m   (...)\u001b[39m\u001b[32m     11\u001b[39m \n\u001b[32m     12\u001b[39m \u001b[38;5;66;03m# Load the estimated values as DataFrame\u001b[39;00m\n\u001b[32m---> \u001b[39m\u001b[32m13\u001b[39m value_df = pl.DataFrame({\u001b[33m'\u001b[39m\u001b[33messay_id\u001b[39m\u001b[33m'\u001b[39m: \u001b[43mestimated_values\u001b[49m.keys(), \u001b[33m'\u001b[39m\u001b[33mvalue\u001b[39m\u001b[33m'\u001b[39m: estimated_values.values()})\n",
      "\u001b[31mNameError\u001b[39m: name 'estimated_values' is not defined"
     ]
    }
   ],
   "source": [
    "estimated_values = valuator.estimate_values(\n",
    "    x_train=train_data['essay'].to_list(),\n",
    "    y_train=train_data['noisy_score'].to_numpy(),\n",
    "    x_val=dev_data['essay'].to_list(),\n",
    "    y_val=dev_data['scaled_score'].to_numpy(),\n",
    "    sample_ids=train_data['essay_id'].to_numpy(),\n",
    ")\n",
    "\n",
    "# Save the estimated values\n",
    "valuator.save_values(estimated_values, f'./output_files/estimated_values_{PROMPT_ID}.csv')\n",
    "\n",
    "# Load the estimated values as DataFrame\n",
    "value_df = pl.DataFrame({'essay_id': estimated_values.keys(), 'value': estimated_values.values()})"
   ]
  },
  {
   "cell_type": "markdown",
   "metadata": {},
   "source": [
    "# Step 5. Discover corrupted sample"
   ]
  },
  {
   "cell_type": "code",
   "execution_count": 10,
   "metadata": {},
   "outputs": [
    {
     "data": {
      "text/html": [
       "<div><style>\n",
       ".dataframe > thead > tr,\n",
       ".dataframe > tbody > tr {\n",
       "  text-align: right;\n",
       "  white-space: pre-wrap;\n",
       "}\n",
       "</style>\n",
       "<small>shape: (1_069, 8)</small><table border=\"1\" class=\"dataframe\"><thead><tr><th>essay_id</th><th>essay_set</th><th>essay</th><th>domain1_score</th><th>scaled_score</th><th>noisy_score</th><th>is_noisy</th><th>value</th></tr><tr><td>i64</td><td>i64</td><td>str</td><td>i64</td><td>f64</td><td>f64</td><td>bool</td><td>f64</td></tr></thead><tbody><tr><td>1666</td><td>1</td><td>&quot;Dear @LOCATION1 press, I have …</td><td>9</td><td>0.7</td><td>0.7</td><td>false</td><td>0.567093</td></tr><tr><td>1530</td><td>1</td><td>&quot;To: @ORGANIZATION1 goes so fas…</td><td>8</td><td>0.6</td><td>0.6</td><td>false</td><td>0.566265</td></tr><tr><td>884</td><td>1</td><td>&quot;Dear local newspaper, I&#x27;ve hea…</td><td>8</td><td>0.6</td><td>1.0</td><td>true</td><td>0.560252</td></tr><tr><td>1473</td><td>1</td><td>&quot;Dear local news paper, This pa…</td><td>6</td><td>0.4</td><td>0.872612</td><td>true</td><td>0.559079</td></tr><tr><td>733</td><td>1</td><td>&quot;Honestly, I totally and absolu…</td><td>8</td><td>0.6</td><td>0.6</td><td>false</td><td>0.56729</td></tr><tr><td>&hellip;</td><td>&hellip;</td><td>&hellip;</td><td>&hellip;</td><td>&hellip;</td><td>&hellip;</td><td>&hellip;</td><td>&hellip;</td></tr><tr><td>1134</td><td>1</td><td>&quot;Dear sir, I belive that comput…</td><td>6</td><td>0.4</td><td>0.4</td><td>false</td><td>0.565537</td></tr><tr><td>1299</td><td>1</td><td>&quot;Dear @PERSON2, Have you ever n…</td><td>11</td><td>0.9</td><td>0.9</td><td>false</td><td>0.566084</td></tr><tr><td>863</td><td>1</td><td>&quot;Dear @CAPS1, @CAPS2 are very d…</td><td>10</td><td>0.8</td><td>0.8</td><td>false</td><td>0.566285</td></tr><tr><td>1464</td><td>1</td><td>&quot;Dear Readers @ORGANIZATION1 th…</td><td>10</td><td>0.8</td><td>0.8</td><td>false</td><td>0.567244</td></tr><tr><td>1129</td><td>1</td><td>&quot;Dear local Newspaper, This ear…</td><td>8</td><td>0.6</td><td>1.0</td><td>true</td><td>0.561874</td></tr></tbody></table></div>"
      ],
      "text/plain": [
       "shape: (1_069, 8)\n",
       "┌──────────┬───────────┬─────────────┬─────────────┬────────────┬────────────┬──────────┬──────────┐\n",
       "│ essay_id ┆ essay_set ┆ essay       ┆ domain1_sco ┆ scaled_sco ┆ noisy_scor ┆ is_noisy ┆ value    │\n",
       "│ ---      ┆ ---       ┆ ---         ┆ re          ┆ re         ┆ e          ┆ ---      ┆ ---      │\n",
       "│ i64      ┆ i64       ┆ str         ┆ ---         ┆ ---        ┆ ---        ┆ bool     ┆ f64      │\n",
       "│          ┆           ┆             ┆ i64         ┆ f64        ┆ f64        ┆          ┆          │\n",
       "╞══════════╪═══════════╪═════════════╪═════════════╪════════════╪════════════╪══════════╪══════════╡\n",
       "│ 1666     ┆ 1         ┆ Dear        ┆ 9           ┆ 0.7        ┆ 0.7        ┆ false    ┆ 0.567093 │\n",
       "│          ┆           ┆ @LOCATION1  ┆             ┆            ┆            ┆          ┆          │\n",
       "│          ┆           ┆ press, I    ┆             ┆            ┆            ┆          ┆          │\n",
       "│          ┆           ┆ have …      ┆             ┆            ┆            ┆          ┆          │\n",
       "│ 1530     ┆ 1         ┆ To: @ORGANI ┆ 8           ┆ 0.6        ┆ 0.6        ┆ false    ┆ 0.566265 │\n",
       "│          ┆           ┆ ZATION1     ┆             ┆            ┆            ┆          ┆          │\n",
       "│          ┆           ┆ goes so     ┆             ┆            ┆            ┆          ┆          │\n",
       "│          ┆           ┆ fas…        ┆             ┆            ┆            ┆          ┆          │\n",
       "│ 884      ┆ 1         ┆ Dear local  ┆ 8           ┆ 0.6        ┆ 1.0        ┆ true     ┆ 0.560252 │\n",
       "│          ┆           ┆ newspaper,  ┆             ┆            ┆            ┆          ┆          │\n",
       "│          ┆           ┆ I've hea…   ┆             ┆            ┆            ┆          ┆          │\n",
       "│ 1473     ┆ 1         ┆ Dear local  ┆ 6           ┆ 0.4        ┆ 0.872612   ┆ true     ┆ 0.559079 │\n",
       "│          ┆           ┆ news paper, ┆             ┆            ┆            ┆          ┆          │\n",
       "│          ┆           ┆ This pa…    ┆             ┆            ┆            ┆          ┆          │\n",
       "│ 733      ┆ 1         ┆ Honestly, I ┆ 8           ┆ 0.6        ┆ 0.6        ┆ false    ┆ 0.56729  │\n",
       "│          ┆           ┆ totally and ┆             ┆            ┆            ┆          ┆          │\n",
       "│          ┆           ┆ absolu…     ┆             ┆            ┆            ┆          ┆          │\n",
       "│ …        ┆ …         ┆ …           ┆ …           ┆ …          ┆ …          ┆ …        ┆ …        │\n",
       "│ 1134     ┆ 1         ┆ Dear sir, I ┆ 6           ┆ 0.4        ┆ 0.4        ┆ false    ┆ 0.565537 │\n",
       "│          ┆           ┆ belive that ┆             ┆            ┆            ┆          ┆          │\n",
       "│          ┆           ┆ comput…     ┆             ┆            ┆            ┆          ┆          │\n",
       "│ 1299     ┆ 1         ┆ Dear        ┆ 11          ┆ 0.9        ┆ 0.9        ┆ false    ┆ 0.566084 │\n",
       "│          ┆           ┆ @PERSON2,   ┆             ┆            ┆            ┆          ┆          │\n",
       "│          ┆           ┆ Have you    ┆             ┆            ┆            ┆          ┆          │\n",
       "│          ┆           ┆ ever n…     ┆             ┆            ┆            ┆          ┆          │\n",
       "│ 863      ┆ 1         ┆ Dear        ┆ 10          ┆ 0.8        ┆ 0.8        ┆ false    ┆ 0.566285 │\n",
       "│          ┆           ┆ @CAPS1,     ┆             ┆            ┆            ┆          ┆          │\n",
       "│          ┆           ┆ @CAPS2 are  ┆             ┆            ┆            ┆          ┆          │\n",
       "│          ┆           ┆ very d…     ┆             ┆            ┆            ┆          ┆          │\n",
       "│ 1464     ┆ 1         ┆ Dear        ┆ 10          ┆ 0.8        ┆ 0.8        ┆ false    ┆ 0.567244 │\n",
       "│          ┆           ┆ Readers @OR ┆             ┆            ┆            ┆          ┆          │\n",
       "│          ┆           ┆ GANIZATION1 ┆             ┆            ┆            ┆          ┆          │\n",
       "│          ┆           ┆ th…         ┆             ┆            ┆            ┆          ┆          │\n",
       "│ 1129     ┆ 1         ┆ Dear local  ┆ 8           ┆ 0.6        ┆ 1.0        ┆ true     ┆ 0.561874 │\n",
       "│          ┆           ┆ Newspaper,  ┆             ┆            ┆            ┆          ┆          │\n",
       "│          ┆           ┆ This ear…   ┆             ┆            ┆            ┆          ┆          │\n",
       "└──────────┴───────────┴─────────────┴─────────────┴────────────┴────────────┴──────────┴──────────┘"
      ]
     },
     "execution_count": 10,
     "metadata": {},
     "output_type": "execute_result"
    }
   ],
   "source": [
    "train_data = train_data.join(value_df, on='essay_id', how='left')\n",
    "train_data"
   ]
  },
  {
   "cell_type": "code",
   "execution_count": 11,
   "metadata": {},
   "outputs": [
    {
     "data": {
      "text/plain": [
       "array([0.23943662, 0.46948357, 0.69483568, 0.85446009, 0.96713615,\n",
       "       1.        , 1.        , 1.        , 1.        , 1.        ,\n",
       "       1.        , 1.        , 1.        , 1.        , 1.        ,\n",
       "       1.        , 1.        , 1.        , 1.        , 1.        ])"
      ]
     },
     "execution_count": 11,
     "metadata": {},
     "output_type": "execute_result"
    },
    {
     "data": {
      "image/png": "[encoded data removed]",
      "text/plain": [
       "<Figure size 600x750 with 1 Axes>"
      ]
     },
     "metadata": {},
     "output_type": "display_data"
    }
   ],
   "source": [
    "import matplotlib.pyplot as plt\n",
    "\n",
    "def discover_corrupted_sample(dve_out, noise_mask, noise_rate, output_path=None, plot=True):\n",
    "  \"\"\"Reports True Positive Rate (TPR) of corrupted label discovery.\n",
    "\n",
    "  Args:\n",
    "    dve_out: data values (numpy array)\n",
    "    noise_mask: 各サンプルがノイズか否かを示す True/False のブール配列\n",
    "    noise_rate: ノイズサンプルの割合\n",
    "    output_path: プロット画像の出力先パス\n",
    "    plot: プロットを表示するかどうか\n",
    "\n",
    "  Returns:\n",
    "    output_perf: パーセンタイル毎（例: 5%刻み）に算出したノイズ検出率（TPR）\n",
    "  \"\"\"\n",
    "\n",
    "  # サンプルをデータ値でソート\n",
    "  num_bins = 20  # 100%を20分割\n",
    "  sort_idx = np.argsort(dve_out)\n",
    "\n",
    "  # 出力用初期化\n",
    "  output_perf = np.zeros([num_bins,])\n",
    "  total_noise = np.sum(noise_mask)  # 全ノイズサンプル数\n",
    "\n",
    "  # 各パーセンタイルごとに計算\n",
    "  for itt in range(num_bins):\n",
    "    num_samples = int((itt+1) * len(dve_out) / num_bins)\n",
    "    # 現在の範囲内でのノイズサンプル数をカウント\n",
    "    discovered_noise = np.sum(noise_mask[sort_idx[:num_samples]])\n",
    "    output_perf[itt] = discovered_noise / total_noise\n",
    "\n",
    "  # ノイズ検出率のグラフをプロット\n",
    "  if plot:\n",
    "    num_x = int(num_bins / 2 + 1)\n",
    "    x = [a * (1.0 / num_bins) for a in range(num_x)]\n",
    "    y_dvrl = np.concatenate((np.zeros(1), output_perf[:(num_x - 1)]))\n",
    "    y_opt = [min(a * ((1.0 / num_bins) / noise_rate), 1) for a in range(num_x)]\n",
    "    y_random = x\n",
    "\n",
    "    plt.figure(figsize=(6, 7.5))\n",
    "    plt.plot(x, y_dvrl, 'o-')\n",
    "    plt.plot(x, y_opt, '--')\n",
    "    plt.plot(x, y_random, ':')\n",
    "    plt.xlabel('Fraction of data Inspected', size=16)\n",
    "    plt.ylabel('Fraction of discovered corrupted samples', size=16)\n",
    "    plt.legend(['Valuation', 'Optimal', 'Random'], prop={'size': 16})\n",
    "    plt.title('Corrupted Sample Discovery', size=16)\n",
    "    if output_path:\n",
    "        plt.savefig(output_path + 'corrupted_sample_discovery.png')\n",
    "\n",
    "  # ノイズ検出率 (TPR) を返す\n",
    "  return output_perf\n",
    "\n",
    "# Assuming 'value' column contains the data values\n",
    "dve_out = train_data['value'].to_numpy()\n",
    "# Assuming 'is_noisy' column indicates corrupted samples (True for corrupted)\n",
    "noise_mask = train_data['is_noisy'].to_numpy()\n",
    "noise_rate = train_data['is_noisy'].mean()  # Calculate the noise rate\n",
    "\n",
    "# Call the function and plot\n",
    "discover_corrupted_sample(dve_out, noise_mask, noise_rate)"
   ]
  },
  {
   "cell_type": "markdown",
   "metadata": {},
   "source": [
    "# Step 6. Calculate F1 score"
   ]
  },
  {
   "cell_type": "code",
   "execution_count": 12,
   "metadata": {},
   "outputs": [
    {
     "data": {
      "text/html": [
       "<div><style>\n",
       ".dataframe > thead > tr,\n",
       ".dataframe > tbody > tr {\n",
       "  text-align: right;\n",
       "  white-space: pre-wrap;\n",
       "}\n",
       "</style>\n",
       "<small>shape: (1_069, 9)</small><table border=\"1\" class=\"dataframe\"><thead><tr><th>essay_id</th><th>essay_set</th><th>essay</th><th>domain1_score</th><th>scaled_score</th><th>noisy_score</th><th>is_noisy</th><th>value</th><th>is_noisy_kmeans</th></tr><tr><td>i64</td><td>i64</td><td>str</td><td>i64</td><td>f64</td><td>f64</td><td>bool</td><td>f64</td><td>bool</td></tr></thead><tbody><tr><td>1666</td><td>1</td><td>&quot;Dear @LOCATION1 press, I have …</td><td>9</td><td>0.7</td><td>0.7</td><td>false</td><td>0.567093</td><td>false</td></tr><tr><td>1530</td><td>1</td><td>&quot;To: @ORGANIZATION1 goes so fas…</td><td>8</td><td>0.6</td><td>0.6</td><td>false</td><td>0.566265</td><td>false</td></tr><tr><td>884</td><td>1</td><td>&quot;Dear local newspaper, I&#x27;ve hea…</td><td>8</td><td>0.6</td><td>1.0</td><td>true</td><td>0.560252</td><td>true</td></tr><tr><td>1473</td><td>1</td><td>&quot;Dear local news paper, This pa…</td><td>6</td><td>0.4</td><td>0.872612</td><td>true</td><td>0.559079</td><td>true</td></tr><tr><td>733</td><td>1</td><td>&quot;Honestly, I totally and absolu…</td><td>8</td><td>0.6</td><td>0.6</td><td>false</td><td>0.56729</td><td>false</td></tr><tr><td>&hellip;</td><td>&hellip;</td><td>&hellip;</td><td>&hellip;</td><td>&hellip;</td><td>&hellip;</td><td>&hellip;</td><td>&hellip;</td><td>&hellip;</td></tr><tr><td>1134</td><td>1</td><td>&quot;Dear sir, I belive that comput…</td><td>6</td><td>0.4</td><td>0.4</td><td>false</td><td>0.565537</td><td>false</td></tr><tr><td>1299</td><td>1</td><td>&quot;Dear @PERSON2, Have you ever n…</td><td>11</td><td>0.9</td><td>0.9</td><td>false</td><td>0.566084</td><td>false</td></tr><tr><td>863</td><td>1</td><td>&quot;Dear @CAPS1, @CAPS2 are very d…</td><td>10</td><td>0.8</td><td>0.8</td><td>false</td><td>0.566285</td><td>false</td></tr><tr><td>1464</td><td>1</td><td>&quot;Dear Readers @ORGANIZATION1 th…</td><td>10</td><td>0.8</td><td>0.8</td><td>false</td><td>0.567244</td><td>false</td></tr><tr><td>1129</td><td>1</td><td>&quot;Dear local Newspaper, This ear…</td><td>8</td><td>0.6</td><td>1.0</td><td>true</td><td>0.561874</td><td>true</td></tr></tbody></table></div>"
      ],
      "text/plain": [
       "shape: (1_069, 9)\n",
       "┌──────────┬───────────┬────────────┬────────────┬───┬───────────┬──────────┬──────────┬───────────┐\n",
       "│ essay_id ┆ essay_set ┆ essay      ┆ domain1_sc ┆ … ┆ noisy_sco ┆ is_noisy ┆ value    ┆ is_noisy_ │\n",
       "│ ---      ┆ ---       ┆ ---        ┆ ore        ┆   ┆ re        ┆ ---      ┆ ---      ┆ kmeans    │\n",
       "│ i64      ┆ i64       ┆ str        ┆ ---        ┆   ┆ ---       ┆ bool     ┆ f64      ┆ ---       │\n",
       "│          ┆           ┆            ┆ i64        ┆   ┆ f64       ┆          ┆          ┆ bool      │\n",
       "╞══════════╪═══════════╪════════════╪════════════╪═══╪═══════════╪══════════╪══════════╪═══════════╡\n",
       "│ 1666     ┆ 1         ┆ Dear       ┆ 9          ┆ … ┆ 0.7       ┆ false    ┆ 0.567093 ┆ false     │\n",
       "│          ┆           ┆ @LOCATION1 ┆            ┆   ┆           ┆          ┆          ┆           │\n",
       "│          ┆           ┆ press, I   ┆            ┆   ┆           ┆          ┆          ┆           │\n",
       "│          ┆           ┆ have …     ┆            ┆   ┆           ┆          ┆          ┆           │\n",
       "│ 1530     ┆ 1         ┆ To: @ORGAN ┆ 8          ┆ … ┆ 0.6       ┆ false    ┆ 0.566265 ┆ false     │\n",
       "│          ┆           ┆ IZATION1   ┆            ┆   ┆           ┆          ┆          ┆           │\n",
       "│          ┆           ┆ goes so    ┆            ┆   ┆           ┆          ┆          ┆           │\n",
       "│          ┆           ┆ fas…       ┆            ┆   ┆           ┆          ┆          ┆           │\n",
       "│ 884      ┆ 1         ┆ Dear local ┆ 8          ┆ … ┆ 1.0       ┆ true     ┆ 0.560252 ┆ true      │\n",
       "│          ┆           ┆ newspaper, ┆            ┆   ┆           ┆          ┆          ┆           │\n",
       "│          ┆           ┆ I've hea…  ┆            ┆   ┆           ┆          ┆          ┆           │\n",
       "│ 1473     ┆ 1         ┆ Dear local ┆ 6          ┆ … ┆ 0.872612  ┆ true     ┆ 0.559079 ┆ true      │\n",
       "│          ┆           ┆ news       ┆            ┆   ┆           ┆          ┆          ┆           │\n",
       "│          ┆           ┆ paper,     ┆            ┆   ┆           ┆          ┆          ┆           │\n",
       "│          ┆           ┆ This pa…   ┆            ┆   ┆           ┆          ┆          ┆           │\n",
       "│ 733      ┆ 1         ┆ Honestly,  ┆ 8          ┆ … ┆ 0.6       ┆ false    ┆ 0.56729  ┆ false     │\n",
       "│          ┆           ┆ I totally  ┆            ┆   ┆           ┆          ┆          ┆           │\n",
       "│          ┆           ┆ and        ┆            ┆   ┆           ┆          ┆          ┆           │\n",
       "│          ┆           ┆ absolu…    ┆            ┆   ┆           ┆          ┆          ┆           │\n",
       "│ …        ┆ …         ┆ …          ┆ …          ┆ … ┆ …         ┆ …        ┆ …        ┆ …         │\n",
       "│ 1134     ┆ 1         ┆ Dear sir,  ┆ 6          ┆ … ┆ 0.4       ┆ false    ┆ 0.565537 ┆ false     │\n",
       "│          ┆           ┆ I belive   ┆            ┆   ┆           ┆          ┆          ┆           │\n",
       "│          ┆           ┆ that       ┆            ┆   ┆           ┆          ┆          ┆           │\n",
       "│          ┆           ┆ comput…    ┆            ┆   ┆           ┆          ┆          ┆           │\n",
       "│ 1299     ┆ 1         ┆ Dear       ┆ 11         ┆ … ┆ 0.9       ┆ false    ┆ 0.566084 ┆ false     │\n",
       "│          ┆           ┆ @PERSON2,  ┆            ┆   ┆           ┆          ┆          ┆           │\n",
       "│          ┆           ┆ Have you   ┆            ┆   ┆           ┆          ┆          ┆           │\n",
       "│          ┆           ┆ ever n…    ┆            ┆   ┆           ┆          ┆          ┆           │\n",
       "│ 863      ┆ 1         ┆ Dear       ┆ 10         ┆ … ┆ 0.8       ┆ false    ┆ 0.566285 ┆ false     │\n",
       "│          ┆           ┆ @CAPS1,    ┆            ┆   ┆           ┆          ┆          ┆           │\n",
       "│          ┆           ┆ @CAPS2 are ┆            ┆   ┆           ┆          ┆          ┆           │\n",
       "│          ┆           ┆ very d…    ┆            ┆   ┆           ┆          ┆          ┆           │\n",
       "│ 1464     ┆ 1         ┆ Dear       ┆ 10         ┆ … ┆ 0.8       ┆ false    ┆ 0.567244 ┆ false     │\n",
       "│          ┆           ┆ Readers    ┆            ┆   ┆           ┆          ┆          ┆           │\n",
       "│          ┆           ┆ @ORGANIZAT ┆            ┆   ┆           ┆          ┆          ┆           │\n",
       "│          ┆           ┆ ION1 th…   ┆            ┆   ┆           ┆          ┆          ┆           │\n",
       "│ 1129     ┆ 1         ┆ Dear local ┆ 8          ┆ … ┆ 1.0       ┆ true     ┆ 0.561874 ┆ true      │\n",
       "│          ┆           ┆ Newspaper, ┆            ┆   ┆           ┆          ┆          ┆           │\n",
       "│          ┆           ┆ This ear…  ┆            ┆   ┆           ┆          ┆          ┆           │\n",
       "└──────────┴───────────┴────────────┴────────────┴───┴───────────┴──────────┴──────────┴───────────┘"
      ]
     },
     "execution_count": 12,
     "metadata": {},
     "output_type": "execute_result"
    }
   ],
   "source": [
    "from sklearn.cluster import KMeans\n",
    "\n",
    "# Extract the 'value' column for clustering\n",
    "values = train_data['value'].to_numpy().reshape(-1, 1)\n",
    "\n",
    "# Perform KMeans clustering with 2 clusters\n",
    "kmeans = KMeans(n_clusters=2, random_state=42, n_init=10)\n",
    "train_data = train_data.with_columns(pl.Series(kmeans.fit_predict(values)).alias(\"cluster\"))\n",
    "\n",
    "# Calculate the mean value for each cluster\n",
    "cluster_means = train_data.group_by(\"cluster\").agg([pl.mean(\"value\").alias(\"mean_value\")])\n",
    "\n",
    "# Determine which cluster has higher mean value\n",
    "high_value_cluster = cluster_means.filter(pl.col(\"mean_value\") == cluster_means[\"mean_value\"].max())[\"cluster\"][0]\n",
    "\n",
    "# Assign 'is_noisy_kmeans' based on cluster assignment: \n",
    "#  - False if in the cluster with higher mean value\n",
    "#  - True otherwise\n",
    "train_data = train_data.with_columns(\n",
    "    (pl.col(\"cluster\") != high_value_cluster).alias(\"is_noisy_kmeans\")\n",
    ")\n",
    "train_data = train_data.drop(\"cluster\")\n",
    "train_data"
   ]
  },
  {
   "cell_type": "code",
   "execution_count": 13,
   "metadata": {},
   "outputs": [
    {
     "name": "stdout",
     "output_type": "stream",
     "text": [
      "F1 Score: 0.8785871964679912\n"
     ]
    }
   ],
   "source": [
    "from sklearn.metrics import f1_score\n",
    "\n",
    "# Calculate the F1 score between 'is_noisy' and 'is_noisy_kmeans'\n",
    "f1 = f1_score(train_data['is_noisy'], train_data['is_noisy_kmeans'])\n",
    "\n",
    "print(f\"F1 Score: {f1}\")"
   ]
  },
  {
   "cell_type": "code",
   "execution_count": null,
   "metadata": {},
   "outputs": [],
   "source": []
  }
 ],
 "metadata": {
  "kernelspec": {
   "display_name": ".venv",
   "language": "python",
   "name": "python3"
  },
  "language_info": {
   "codemirror_mode": {
    "name": "ipython",
    "version": 3
   },
   "file_extension": ".py",
   "mimetype": "text/x-python",
   "name": "python",
   "nbconvert_exporter": "python",
   "pygments_lexer": "ipython3",
   "version": "3.11.0"
  }
 },
 "nbformat": 4,
 "nbformat_minor": 2
}
